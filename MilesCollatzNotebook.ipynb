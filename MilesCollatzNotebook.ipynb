{
  "nbformat": 4,
  "nbformat_minor": 0,
  "metadata": {
    "kernelspec": {
      "display_name": "Python 3",
      "language": "python",
      "name": "python3"
    },
    "language_info": {
      "codemirror_mode": {
        "name": "ipython",
        "version": 3
      },
      "file_extension": ".py",
      "mimetype": "text/x-python",
      "name": "python",
      "nbconvert_exporter": "python",
      "pygments_lexer": "ipython3",
      "version": "3.8.5"
    },
    "colab": {
      "name": "MilesCollatzNotebook.ipynb",
      "provenance": [],
      "collapsed_sections": [],
      "include_colab_link": true
    }
  },
  "cells": [
    {
      "cell_type": "markdown",
      "metadata": {
        "id": "view-in-github",
        "colab_type": "text"
      },
      "source": [
        "<a href=\"https://colab.research.google.com/github/gencross/CollatzGroup3/blob/main/MilesCollatzNotebook.ipynb\" target=\"_parent\"><img src=\"https://colab.research.google.com/assets/colab-badge.svg\" alt=\"Open In Colab\"/></a>"
      ]
    },
    {
      "cell_type": "code",
      "metadata": {
        "id": "07JhRV_xb3JA"
      },
      "source": [
        "def collatz_verbose(n):\n",
        "  '''\n",
        "  Prints the orbit of n\n",
        "  '''\n",
        "  while n != 1:\n",
        "    print(n)\n",
        "    if n % 2 == 0:\n",
        "      n //= 2\n",
        "    else:\n",
        "      n = (3 * n + 1) // 2\n",
        "  return"
      ],
      "execution_count": null,
      "outputs": []
    },
    {
      "cell_type": "code",
      "metadata": {
        "id": "2dYv6akmb3JF"
      },
      "source": [
        "def collatz_iterations(n):\n",
        "  '''\n",
        "  Return how many iterations it takes for\n",
        "  n to go to 1\n",
        "  '''\n",
        "  iterations = 0\n",
        "  while n != 1:\n",
        "    if n % 2 == 0:\n",
        "      n //= 2\n",
        "    else:\n",
        "      n = (3 * n + 1) // 2\n",
        "    iterations += 1\n",
        "  return iterations"
      ],
      "execution_count": null,
      "outputs": []
    },
    {
      "cell_type": "code",
      "metadata": {
        "id": "an0YIErUb3JF"
      },
      "source": [
        "def collatz_check(n):\n",
        "  '''\n",
        "  Returns True if n passes\n",
        "  the Collatz conjecture\n",
        "  '''\n",
        "  while n != 1:\n",
        "    if n % 2 == 0:\n",
        "      n //= 2\n",
        "    else:\n",
        "      n = (3 * n + 1) // 2\n",
        "  return True"
      ],
      "execution_count": null,
      "outputs": []
    },
    {
      "cell_type": "code",
      "metadata": {
        "colab": {
          "base_uri": "https://localhost:8080/"
        },
        "id": "KzXLsGpQb3JG",
        "outputId": "b4f79ea6-7112-4f12-97f9-cee7d1b2823b"
      },
      "source": [
        "for i in range(2,10**5):\n",
        "  if collatz_check(i) != True:\n",
        "    print(\"Fields Medal!!!\", i)\n",
        "print(\"Check complete.\")    "
      ],
      "execution_count": null,
      "outputs": [
        {
          "output_type": "stream",
          "text": [
            "Check complete.\n"
          ],
          "name": "stdout"
        }
      ]
    },
    {
      "cell_type": "code",
      "metadata": {
        "id": "h5V2pCUXb3JH"
      },
      "source": [
        "def find_max_iter(n):\n",
        "  '''\n",
        "  Checks for the number with the longest orbit\n",
        "  up to n. Returns a tuple. The first value is\n",
        "  the number, the second value is the number of \n",
        "  iterations.\n",
        "  '''\n",
        "  max_iter = 0\n",
        "  max_iter_n = 0\n",
        "  for i in range(2,n+1):\n",
        "    i_iter = collatz_iterations(i)\n",
        "    if i_iter > max_iter:\n",
        "      max_iter = i_iter\n",
        "      max_iter_n = i\n",
        "  return max_iter_n, max_iter"
      ],
      "execution_count": null,
      "outputs": []
    },
    {
      "cell_type": "code",
      "metadata": {
        "colab": {
          "base_uri": "https://localhost:8080/"
        },
        "id": "owayvXIMb3JI",
        "outputId": "fc2e5257-a15e-4533-ac7b-df730ba44c46"
      },
      "source": [
        "find_max_iter(10**5)"
      ],
      "execution_count": null,
      "outputs": [
        {
          "output_type": "execute_result",
          "data": {
            "text/plain": [
              "(77031, 221)"
            ]
          },
          "metadata": {
            "tags": []
          },
          "execution_count": 21
        }
      ]
    },
    {
      "cell_type": "code",
      "metadata": {
        "id": "dLS_mzwZb3JI"
      },
      "source": [
        "#collatz_verbose(77031)"
      ],
      "execution_count": null,
      "outputs": []
    },
    {
      "cell_type": "code",
      "metadata": {
        "id": "0htYPeGGb3JJ"
      },
      "source": [
        "def better_check(n):\r\n",
        "  for i in range(3,n+1,2):\r\n",
        "    c = i\r\n",
        "    while c >= i:\r\n",
        "      if c % 2 == 0:\r\n",
        "        c //= 2\r\n",
        "      if c % 2 == 1:\r\n",
        "        c = (3 * c + 1) // 2\r\n",
        "  print(\"Verified up to {}\".format(n))\r\n"
      ],
      "execution_count": 26,
      "outputs": []
    },
    {
      "cell_type": "code",
      "metadata": {
        "id": "YRUTtebNlWwd",
        "colab": {
          "base_uri": "https://localhost:8080/"
        },
        "outputId": "1ca1f82a-6e5c-4b59-ec68-861595427082"
      },
      "source": [
        "better_check(10**9)"
      ],
      "execution_count": 35,
      "outputs": [
        {
          "output_type": "stream",
          "text": [
            "Verified up to 1000000000\n"
          ],
          "name": "stdout"
        }
      ]
    },
    {
      "cell_type": "code",
      "metadata": {
        "id": "JFFVDOZUlikX"
      },
      "source": [
        ""
      ],
      "execution_count": null,
      "outputs": []
    }
  ]
}