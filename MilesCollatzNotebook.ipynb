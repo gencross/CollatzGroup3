{
  "nbformat": 4,
  "nbformat_minor": 0,
  "metadata": {
    "kernelspec": {
      "display_name": "Python 3",
      "language": "python",
      "name": "python3"
    },
    "language_info": {
      "codemirror_mode": {
        "name": "ipython",
        "version": 3
      },
      "file_extension": ".py",
      "mimetype": "text/x-python",
      "name": "python",
      "nbconvert_exporter": "python",
      "pygments_lexer": "ipython3",
      "version": "3.8.5"
    },
    "colab": {
      "name": "MilesCollatzNotebook.ipynb",
      "provenance": [],
      "collapsed_sections": [],
      "include_colab_link": true
    }
  },
  "cells": [
    {
      "cell_type": "markdown",
      "metadata": {
        "id": "view-in-github",
        "colab_type": "text"
      },
      "source": [
        "<a href=\"https://colab.research.google.com/github/gencross/CollatzGroup3/blob/main/MilesCollatzNotebook.ipynb\" target=\"_parent\"><img src=\"https://colab.research.google.com/assets/colab-badge.svg\" alt=\"Open In Colab\"/></a>"
      ]
    },
    {
      "cell_type": "code",
      "metadata": {
        "id": "07JhRV_xb3JA"
      },
      "source": [
        "def collatz_verbose(n):\n",
        "  '''\n",
        "  Prints the orbit of n\n",
        "  '''\n",
        "  while abs(n) != 1: #check if n has reached 1 or -1\n",
        "    print(n)\n",
        "    if n % 2 == 0: #if n is even, divide by 2 and repeat\n",
        "      n //= 2\n",
        "    else: #if n is odd, do 3n+1 and repeat\n",
        "      n = (3 * n + 1)\n",
        "  return"
      ],
      "execution_count": 3,
      "outputs": []
    },
    {
      "cell_type": "code",
      "metadata": {
        "id": "2dYv6akmb3JF"
      },
      "source": [
        "def collatz_iterations(n):\n",
        "  '''\n",
        "  Return how many iterations it takes for\n",
        "  n to go to 1\n",
        "  '''\n",
        "  iterations = 0\n",
        "  while n != 1:\n",
        "    if n % 2 == 0:\n",
        "      n //= 2\n",
        "    else:\n",
        "      n = (3 * n + 1) // 2\n",
        "    iterations += 1\n",
        "  return iterations"
      ],
      "execution_count": 4,
      "outputs": []
    },
    {
      "cell_type": "code",
      "metadata": {
        "id": "an0YIErUb3JF"
      },
      "source": [
        "def collatz_check(n):\n",
        "  '''\n",
        "  Returns True if n passes\n",
        "  the Collatz conjecture\n",
        "  '''\n",
        "  while n != 1:\n",
        "    if n % 2 == 0:\n",
        "      n //= 2\n",
        "    else:\n",
        "      n = (3 * n + 1) // 2\n",
        "  return True"
      ],
      "execution_count": 5,
      "outputs": []
    },
    {
      "cell_type": "code",
      "metadata": {
        "colab": {
          "base_uri": "https://localhost:8080/"
        },
        "id": "KzXLsGpQb3JG",
        "outputId": "e56be528-72d1-4f66-c7b9-3e2fe2d46ad6"
      },
      "source": [
        "for i in range(2,10**5):\n",
        "  if collatz_check(i) != True:\n",
        "    print(\"Fields Medal!!!\", i)\n",
        "print(\"Check complete.\")    "
      ],
      "execution_count": 6,
      "outputs": [
        {
          "output_type": "stream",
          "text": [
            "Check complete.\n"
          ],
          "name": "stdout"
        }
      ]
    },
    {
      "cell_type": "code",
      "metadata": {
        "id": "h5V2pCUXb3JH"
      },
      "source": [
        "def find_max_iter(n):\n",
        "  '''\n",
        "  Checks for the number with the longest orbit\n",
        "  up to n. Returns a tuple. The first value is\n",
        "  the number, the second value is the number of \n",
        "  iterations.\n",
        "  '''\n",
        "  max_iter = 0\n",
        "  max_iter_n = 0\n",
        "  for i in range(2,n+1):\n",
        "    i_iter = collatz_iterations(i)\n",
        "    if i_iter > max_iter:\n",
        "      max_iter = i_iter\n",
        "      max_iter_n = i\n",
        "  return max_iter_n, max_iter"
      ],
      "execution_count": 7,
      "outputs": []
    },
    {
      "cell_type": "code",
      "metadata": {
        "colab": {
          "base_uri": "https://localhost:8080/"
        },
        "id": "owayvXIMb3JI",
        "outputId": "1226e1c8-7243-4537-e85c-e135cd17a900"
      },
      "source": [
        "find_max_iter(10**5)"
      ],
      "execution_count": 8,
      "outputs": [
        {
          "output_type": "execute_result",
          "data": {
            "text/plain": [
              "(77031, 221)"
            ]
          },
          "metadata": {
            "tags": []
          },
          "execution_count": 8
        }
      ]
    },
    {
      "cell_type": "code",
      "metadata": {
        "id": "dLS_mzwZb3JI"
      },
      "source": [
        "#collatz_verbose(77031)"
      ],
      "execution_count": 9,
      "outputs": []
    },
    {
      "cell_type": "code",
      "metadata": {
        "id": "0htYPeGGb3JJ"
      },
      "source": [
        "def better_check(n):\r\n",
        "  for i in range(3,n+1,2):\r\n",
        "    c = i\r\n",
        "    while c >= i:\r\n",
        "      if c % 2 == 0:\r\n",
        "        c //= 2\r\n",
        "      if c % 2 == 1:\r\n",
        "        c = (3 * c + 1) // 2\r\n",
        "  print(\"Verified up to {}\".format(n))\r\n"
      ],
      "execution_count": 10,
      "outputs": []
    },
    {
      "cell_type": "code",
      "metadata": {
        "id": "YRUTtebNlWwd"
      },
      "source": [
        "#better_check(10**9)"
      ],
      "execution_count": 11,
      "outputs": []
    },
    {
      "cell_type": "markdown",
      "metadata": {
        "id": "xEUg-Pk3Kib7"
      },
      "source": [
        "The \"dropping time\", σ(n), of an integer n is defined as the number of 3n+1 iterations that n undergoes before it becomes less than where it started. For example, σ(5)=3, since 5 goes to 16 goes to 8 goes to 4, which is less than 5. Every number that we tested has a finite dropping time, since every number that we tested eventually reached 1. The dropping time is significant in testing new numbers if you're testing numbers sequentially. Once a number n drops below where it started, it will definitely reach 1 because all numbers less than n have already been shown to reach 1. Below, you can see the dropping time function that we created."
      ]
    },
    {
      "cell_type": "code",
      "metadata": {
        "id": "JFFVDOZUlikX"
      },
      "source": [
        "def sigma(n):\r\n",
        "  '''\r\n",
        "  Finds and returns the \"dropping time\" of n.\r\n",
        "  This is the number of 3n+1 loops that it takes\r\n",
        "  for n to become less than where it started.\r\n",
        "  '''\r\n",
        "  i = n # i will be the variable that changes, n will stay static\r\n",
        "  loops = 0 # track the dropping time here\r\n",
        "  while i >= n: # stop when i < n\r\n",
        "    if i % 2 == 0:\r\n",
        "      i //= 2\r\n",
        "      loops += 1\r\n",
        "    else:\r\n",
        "      i = (3 * i + 1) // 2\r\n",
        "      loops += 2 # We can combine 2 steps into one here since 3i+1 is always even\r\n",
        "  return loops"
      ],
      "execution_count": 41,
      "outputs": []
    },
    {
      "cell_type": "markdown",
      "metadata": {
        "id": "jgALgM-tNPSP"
      },
      "source": [
        "At first glance, σ(n) doesn't depend on the size of n. See below, the dropping time of prime numbers ranging from 1 to 10 digits."
      ]
    },
    {
      "cell_type": "code",
      "metadata": {
        "colab": {
          "base_uri": "https://localhost:8080/"
        },
        "id": "Rh8arCaTMi2e",
        "outputId": "cdc75fd1-e431-4c91-89a9-6b48fb5581b9"
      },
      "source": [
        "[sigma(7),\r\n",
        "sigma(31),\r\n",
        "sigma(127),\r\n",
        "sigma(8191),\r\n",
        "sigma(97259),\r\n",
        "sigma(524287),\r\n",
        "sigma(9375739),\r\n",
        "sigma(86028121),\r\n",
        "sigma(633910099),\r\n",
        "sigma(2147483647)]"
      ],
      "execution_count": 30,
      "outputs": [
        {
          "output_type": "execute_result",
          "data": {
            "text/plain": [
              "[11, 91, 24, 70, 8, 91, 21, 3, 6, 187]"
            ]
          },
          "metadata": {
            "tags": []
          },
          "execution_count": 30
        }
      ]
    },
    {
      "cell_type": "markdown",
      "metadata": {
        "id": "O0K4bnJfNiep"
      },
      "source": [
        "The 10 digit number has the largest dropping time, but 31 is tied for second place. So, the following function was created to find which numbers have a bigger dropping time than any previous numbers."
      ]
    },
    {
      "cell_type": "code",
      "metadata": {
        "id": "4qYoHYk0TLad"
      },
      "source": [
        "def best_sigmas(n):\r\n",
        "  '''\r\n",
        "  Creates and returns a list all positive ints\r\n",
        "  less than or equal to n whose dropping time\r\n",
        "  is greater than the dropping times of all\r\n",
        "  smaller positive ints. Also returns the dropping\r\n",
        "  times. Output format is (n,sigma(n)).\r\n",
        "  '''\r\n",
        "  int_list = [(2,1)] #σ(1) is undefined, so we start checking at 2\r\n",
        "  for i in range(3,n+1,2): # we only check odd numbers since σ(2n) = 1 for any n\r\n",
        "    sig_i = sigma(i) # save this as a variable so we don't have to run it twice\r\n",
        "    if sig_i > int_list[-1][1]:\r\n",
        "      int_list.append((i,sig_i))\r\n",
        "  return int_list"
      ],
      "execution_count": 33,
      "outputs": []
    },
    {
      "cell_type": "code",
      "metadata": {
        "colab": {
          "base_uri": "https://localhost:8080/"
        },
        "id": "WR_Fv3WjbGlp",
        "outputId": "968e0a7c-d7be-4a90-fb67-86c137c04f35"
      },
      "source": [
        "best_sigmas_list = best_sigmas(10**7)\r\n",
        "print(best_sigmas_list)"
      ],
      "execution_count": 34,
      "outputs": [
        {
          "output_type": "stream",
          "text": [
            "[(2, 1), (3, 6), (7, 11), (27, 96), (703, 132), (10087, 171), (35655, 220), (270271, 267), (362343, 269), (381727, 282), (626331, 287), (1027431, 298), (1126015, 365), (8088063, 401)]\n"
          ],
          "name": "stdout"
        }
      ]
    },
    {
      "cell_type": "markdown",
      "metadata": {
        "id": "vm3Ux1N5PHPV"
      },
      "source": [
        "The output is formatted as `(n,σ(n))`. With this list, we can see that σ(n) only increases 13 times when n goes from 2 to 10 million. A logical next step would be finding what the most common dropping time is. A sensible guess is 1, since all even numbers have a dropping time of 1. Let's check."
      ]
    },
    {
      "cell_type": "code",
      "metadata": {
        "colab": {
          "base_uri": "https://localhost:8080/"
        },
        "id": "-z-9J3t4QfE7",
        "outputId": "064af7db-70f5-4673-ca7e-bc53289df9ec"
      },
      "source": [
        "from statistics import mean\r\n",
        "from statistics import mode\r\n",
        "sigma_list = []\r\n",
        "for i in range(2,10**7): # we check up 10**7 because checking higher takes too long\r\n",
        "  sigma_list.append(sigma(i))\r\n",
        "print(mean(sigma_list), \"is the mean.\")\r\n",
        "print(mode(sigma_list), \"is the mode.\")"
      ],
      "execution_count": 52,
      "outputs": [
        {
          "output_type": "stream",
          "text": [
            "5.235936047187209 is the mean.\n",
            "1 is the mode.\n"
          ],
          "name": "stdout"
        }
      ]
    },
    {
      "cell_type": "markdown",
      "metadata": {
        "id": "BTNfOCvsTFyq"
      },
      "source": [
        "As predicted, 1 is the mode. But, the mean is 5.236, a number that seems quite random. What happens when we only consider odd numbers?"
      ]
    },
    {
      "cell_type": "code",
      "metadata": {
        "colab": {
          "base_uri": "https://localhost:8080/"
        },
        "id": "_o1dIDB5UHfV",
        "outputId": "84cae5ba-0505-494b-ccbb-cdfdf36d8d0c"
      },
      "source": [
        "from statistics import mean\r\n",
        "from statistics import mode\r\n",
        "sigma_list = []\r\n",
        "for i in range(3,10**7,2): # only odd numbers this time\r\n",
        "  sigma_list.append(sigma(i))\r\n",
        "print(mean(sigma_list), \"is the mean.\")\r\n",
        "print(mode(sigma_list), \"is the mode.\")"
      ],
      "execution_count": 53,
      "outputs": [
        {
          "output_type": "stream",
          "text": [
            "9.471872094374419 is the mean.\n",
            "3 is the mode.\n"
          ],
          "name": "stdout"
        }
      ]
    },
    {
      "cell_type": "markdown",
      "metadata": {
        "id": "9iyytfmvVXHU"
      },
      "source": [
        "When we only look at odd numbers, the mode is 3. The mean is about twice as big, which makes sense. Odd numbers are of the form 2n+1, so what happens if we look at numbers of the form 4n+1?"
      ]
    },
    {
      "cell_type": "code",
      "metadata": {
        "colab": {
          "base_uri": "https://localhost:8080/"
        },
        "id": "OxOthT9bWARb",
        "outputId": "6710c224-06d8-4308-d22b-736758f326c1"
      },
      "source": [
        "from statistics import mean\r\n",
        "from statistics import mode\r\n",
        "sigma_list = []\r\n",
        "for i in range(5,10**7,4): # we start with 4 because σ(1) is undefined\r\n",
        "  sigma_list.append(sigma(i))\r\n",
        "print(mean(sigma_list), \"is the mean.\")\r\n",
        "print(mode(sigma_list), \"is the mode.\")"
      ],
      "execution_count": 54,
      "outputs": [
        {
          "output_type": "stream",
          "text": [
            "3 is the mean.\n",
            "3 is the mode.\n"
          ],
          "name": "stdout"
        }
      ]
    },
    {
      "cell_type": "markdown",
      "metadata": {
        "id": "xkKjF6R_WWzo"
      },
      "source": [
        "This time, 3 is the mean as well! What does this list look like?"
      ]
    },
    {
      "cell_type": "code",
      "metadata": {
        "id": "ZoSGyT5OWgfs",
        "outputId": "38c8c236-bd3b-47cf-b1e9-4c7c75a378da",
        "colab": {
          "base_uri": "https://localhost:8080/"
        }
      },
      "source": [
        "print(sigma_list[10**5:10**5+200])"
      ],
      "execution_count": 55,
      "outputs": [
        {
          "output_type": "stream",
          "text": [
            "[3, 3, 3, 3, 3, 3, 3, 3, 3, 3, 3, 3, 3, 3, 3, 3, 3, 3, 3, 3, 3, 3, 3, 3, 3, 3, 3, 3, 3, 3, 3, 3, 3, 3, 3, 3, 3, 3, 3, 3, 3, 3, 3, 3, 3, 3, 3, 3, 3, 3, 3, 3, 3, 3, 3, 3, 3, 3, 3, 3, 3, 3, 3, 3, 3, 3, 3, 3, 3, 3, 3, 3, 3, 3, 3, 3, 3, 3, 3, 3, 3, 3, 3, 3, 3, 3, 3, 3, 3, 3, 3, 3, 3, 3, 3, 3, 3, 3, 3, 3, 3, 3, 3, 3, 3, 3, 3, 3, 3, 3, 3, 3, 3, 3, 3, 3, 3, 3, 3, 3, 3, 3, 3, 3, 3, 3, 3, 3, 3, 3, 3, 3, 3, 3, 3, 3, 3, 3, 3, 3, 3, 3, 3, 3, 3, 3, 3, 3, 3, 3, 3, 3, 3, 3, 3, 3, 3, 3, 3, 3, 3, 3, 3, 3, 3, 3, 3, 3, 3, 3, 3, 3, 3, 3, 3, 3, 3, 3, 3, 3, 3, 3, 3, 3, 3, 3, 3, 3, 3, 3, 3, 3, 3, 3, 3, 3, 3, 3, 3, 3]\n"
          ],
          "name": "stdout"
        }
      ]
    },
    {
      "cell_type": "markdown",
      "metadata": {
        "id": "TP7vaxWUWvSa"
      },
      "source": [
        "It's too big to show here because of the length of the list, but it's all 3s. So, it looks like σ(4n+1) = 3 for all n! In fact, this can be proven.<br />\r\n",
        "`4n+1 is odd, so do 3(4n+1)+1`<br />\r\n",
        "`12n+4 is even, so do (4+12n)/2`<br />\r\n",
        "`6n+2 is even, so do (6n+2)/2`<br />\r\n",
        "`3n+1 < 4n+1 so we're done.`<br />\r\n",
        "This shows that any number of the form 4n+1 has a dropping time of 3! Are there other formulas that can give us numbers with a fixed dropping time? To answer this question, here is a function which will calculate σ(n) for all n=ai+b, where i is a positive integer. We stop the calculations at n=10**6."
      ]
    },
    {
      "cell_type": "code",
      "metadata": {
        "id": "JaJ4SXimnDob"
      },
      "source": [
        "def sigma_b_mod_a(a,b):\r\n",
        "  '''\r\n",
        "  Returns a list of all of the sigmas\r\n",
        "  for integers congruent to b mod a\r\n",
        "  up to 10**6\r\n",
        "  '''\r\n",
        "  sigma_list = []\r\n",
        "  for i in range(b,10**6,a):\r\n",
        "    sigma_list.append(sigma(i))\r\n",
        "  return sigma_list"
      ],
      "execution_count": 59,
      "outputs": []
    },
    {
      "cell_type": "markdown",
      "metadata": {
        "id": "KF7--qV3bn5h"
      },
      "source": [
        "We need a way to parse this data. The last function returns a list with too many elements to analyze by hand, so we'll look at its mean instead. The below function will help us. "
      ]
    },
    {
      "cell_type": "code",
      "metadata": {
        "id": "faEOOkSvoQWV"
      },
      "source": [
        "from statistics import mean\r\n",
        "def average_sigma(a):\r\n",
        "  '''\r\n",
        "  Returns a list of tuples. Call the first entry i. Then the\r\n",
        "  second entry is the mean of all σ(an+i) where an+i is \r\n",
        "  less than 10**6.\r\n",
        "  '''\r\n",
        "  average_sigma_list = []\r\n",
        "  for i in range(1,301):\r\n",
        "    k = mean(sigma_b_mod_a(i,a))\r\n",
        "    average_sigma_list.append((i,k))\r\n",
        "  return average_sigma_list"
      ],
      "execution_count": 69,
      "outputs": []
    },
    {
      "cell_type": "code",
      "metadata": {
        "id": "E7XrdAWNpQ5k",
        "colab": {
          "base_uri": "https://localhost:8080/"
        },
        "outputId": "faead721-fd88-4078-b0c4-f6d4c7ae6b7c"
      },
      "source": [
        "average_sigma(11)[:50]"
      ],
      "execution_count": 70,
      "outputs": [
        {
          "output_type": "execute_result",
          "data": {
            "text/plain": [
              "[(1, 5.226288489173381),\n",
              " (2, 9.452568525685257),\n",
              " (3, 5.223937239372393),\n",
              " (4, 15.905111240889926),\n",
              " (5, 5.232692326923269),\n",
              " (6, 9.447874478744787),\n",
              " (7, 5.220340762726102),\n",
              " (8, 10.428667429339434),\n",
              " (9, 5.226757267572676),\n",
              " (10, 9.465384653846538),\n",
              " (11, 5.203874203874204),\n",
              " (12, 15.895671582686331),\n",
              " (13, 5.222872222872223),\n",
              " (14, 9.440681525452204),\n",
              " (15, 5.229172291722917),\n",
              " (16, 14.857264),\n",
              " (17, 5.201264811383303),\n",
              " (18, 9.453514535145352),\n",
              " (19, 5.216298379282172),\n",
              " (20, 15.93064),\n",
              " (21, 5.2301812301812305),\n",
              " (22, 9.407655923440766),\n",
              " (23, 5.231128386770321),\n",
              " (24, 10.421652626778986),\n",
              " (25, 5.22895),\n",
              " (26, 9.445634652384172),\n",
              " (27, 5.230742230742231),\n",
              " (28, 15.881363050904406),\n",
              " (29, 5.210161528869298),\n",
              " (30, 9.458344583445834),\n",
              " (31, 5.23742947485895),\n",
              " (32, 8),\n",
              " (33, 5.178695178695179),\n",
              " (34, 9.402386780905752),\n",
              " (35, 5.204640907181856),\n",
              " (36, 15.906796745626036),\n",
              " (37, 5.21970621970622),\n",
              " (38, 9.432436540507675),\n",
              " (39, 5.238992238992239),\n",
              " (40, 10.4626),\n",
              " (41, 5.220049200492005),\n",
              " (42, 9.460184796304073),\n",
              " (43, 5.255073959408325),\n",
              " (44, 15.81502991904259),\n",
              " (45, 5.219737197371973),\n",
              " (46, 9.462256773540641),\n",
              " (47, 5.1481411853174786),\n",
              " (48, 14.843093021023327),\n",
              " (49, 5.244266954135633),\n",
              " (50, 9.4579)]"
            ]
          },
          "metadata": {
            "tags": []
          },
          "execution_count": 70
        }
      ]
    },
    {
      "cell_type": "markdown",
      "metadata": {
        "id": "f7Xzb9H6fV03"
      },
      "source": [
        "It looks like σ(16n+3) = 6! This can be proven in the same way that we proved that σ(4n+1) = 3.<br />\r\n",
        "`16n+3 is odd, so do 3(16n+3)+1`<br />\r\n",
        "`48n+10 is even, so do (48n+10)/2`<br />\r\n",
        "`24n+5 is odd, so do 3(24n+5)+1`<br />\r\n",
        "`72n+16 is even, so do (72n+16)/2`<br />\r\n",
        "`36n+8 is even, so do (36n+8)/2`<br />\r\n",
        "`18n+4 is even, so do (18n+4)/2`<br />\r\n",
        "`9n+2 < 16n+3 so we're done.`<br />\r\n",
        "Here are all of the numbers that we found with a fixed dropping time:<br />\r\n",
        "σ(4n + 1) = 3<br />\r\n",
        "σ(16n + 3) = 6<br />\r\n",
        "σ(32n + 11) = 8<br />\r\n",
        "σ(32n + 23) = 8<br />\r\n",
        "σ(128n + 15) = 11<br />"
      ]
    },
    {
      "cell_type": "code",
      "metadata": {
        "id": "9dUtMlMdn43p"
      },
      "source": [
        "def histogram_plot(l):\r\n",
        "  '''\r\n",
        "  plot a histogram from the entries of l\r\n",
        "  '''\r\n",
        "  import matplotlib.pyplot as plt\r\n",
        "  index = []\r\n",
        "  data = []\r\n",
        "  for i in l:\r\n",
        "    index.append(i[0])\r\n",
        "    data.append(i[1])\r\n",
        "  plt.plot(index,data)"
      ],
      "execution_count": 19,
      "outputs": []
    },
    {
      "cell_type": "code",
      "metadata": {
        "id": "Al6VoqdzpA8U",
        "colab": {
          "base_uri": "https://localhost:8080/",
          "height": 265
        },
        "outputId": "031846ae-b503-4c8a-93d7-db8c963a8ca8"
      },
      "source": [
        "histogram_plot(avg_list)"
      ],
      "execution_count": 25,
      "outputs": [
        {
          "output_type": "display_data",
          "data": {
            "image/png": "[encoded data removed]",
            "text/plain": [
              "<Figure size 432x288 with 1 Axes>"
            ]
          },
          "metadata": {
            "tags": [],
            "needs_background": "light"
          }
        }
      ]
    }
  ]
}