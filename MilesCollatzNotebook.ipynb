{
  "nbformat": 4,
  "nbformat_minor": 0,
  "metadata": {
    "kernelspec": {
      "display_name": "Python 3",
      "language": "python",
      "name": "python3"
    },
    "language_info": {
      "codemirror_mode": {
        "name": "ipython",
        "version": 3
      },
      "file_extension": ".py",
      "mimetype": "text/x-python",
      "name": "python",
      "nbconvert_exporter": "python",
      "pygments_lexer": "ipython3",
      "version": "3.8.5"
    },
    "colab": {
      "name": "MilesCollatzNotebook.ipynb",
      "provenance": [],
      "collapsed_sections": [],
      "include_colab_link": true
    }
  },
  "cells": [
    {
      "cell_type": "markdown",
      "metadata": {
        "id": "view-in-github",
        "colab_type": "text"
      },
      "source": [
        "<a href=\"https://colab.research.google.com/github/gencross/CollatzGroup3/blob/main/MilesCollatzNotebook.ipynb\" target=\"_parent\"><img src=\"https://colab.research.google.com/assets/colab-badge.svg\" alt=\"Open In Colab\"/></a>"
      ]
    },
    {
      "cell_type": "code",
      "metadata": {
        "id": "07JhRV_xb3JA"
      },
      "source": [
        "def collatz_verbose(n):\n",
        "  '''\n",
        "  Prints the orbit of n\n",
        "  '''\n",
        "  while abs(n) != 1: #check if n has reached 1 or -1\n",
        "    print(n)\n",
        "    if n % 2 == 0: #if n is even, divide by 2 and repeat\n",
        "      n //= 2\n",
        "    else: #if n is odd, do 3n+1 and repeat\n",
        "      n = (3 * n + 1)\n",
        "  return"
      ],
      "execution_count": null,
      "outputs": []
    },
    {
      "cell_type": "code",
      "metadata": {
        "id": "2dYv6akmb3JF"
      },
      "source": [
        "def collatz_iterations(n):\n",
        "  '''\n",
        "  Return how many iterations it takes for\n",
        "  n to go to 1\n",
        "  '''\n",
        "  iterations = 0\n",
        "  while n != 1:\n",
        "    if n % 2 == 0:\n",
        "      n //= 2\n",
        "    else:\n",
        "      n = (3 * n + 1) // 2\n",
        "    iterations += 1\n",
        "  return iterations"
      ],
      "execution_count": null,
      "outputs": []
    },
    {
      "cell_type": "code",
      "metadata": {
        "id": "an0YIErUb3JF"
      },
      "source": [
        "def collatz_check(n):\n",
        "  '''\n",
        "  Returns True if n passes\n",
        "  the Collatz conjecture\n",
        "  '''\n",
        "  while n != 1:\n",
        "    if n % 2 == 0:\n",
        "      n //= 2\n",
        "    else:\n",
        "      n = (3 * n + 1) // 2\n",
        "  return True"
      ],
      "execution_count": null,
      "outputs": []
    },
    {
      "cell_type": "code",
      "metadata": {
        "colab": {
          "base_uri": "https://localhost:8080/"
        },
        "id": "KzXLsGpQb3JG",
        "outputId": "b4f79ea6-7112-4f12-97f9-cee7d1b2823b"
      },
      "source": [
        "for i in range(2,10**5):\n",
        "  if collatz_check(i) != True:\n",
        "    print(\"Fields Medal!!!\", i)\n",
        "print(\"Check complete.\")    "
      ],
      "execution_count": null,
      "outputs": [
        {
          "output_type": "stream",
          "text": [
            "Check complete.\n"
          ],
          "name": "stdout"
        }
      ]
    },
    {
      "cell_type": "code",
      "metadata": {
        "id": "h5V2pCUXb3JH"
      },
      "source": [
        "def find_max_iter(n):\n",
        "  '''\n",
        "  Checks for the number with the longest orbit\n",
        "  up to n. Returns a tuple. The first value is\n",
        "  the number, the second value is the number of \n",
        "  iterations.\n",
        "  '''\n",
        "  max_iter = 0\n",
        "  max_iter_n = 0\n",
        "  for i in range(2,n+1):\n",
        "    i_iter = collatz_iterations(i)\n",
        "    if i_iter > max_iter:\n",
        "      max_iter = i_iter\n",
        "      max_iter_n = i\n",
        "  return max_iter_n, max_iter"
      ],
      "execution_count": null,
      "outputs": []
    },
    {
      "cell_type": "code",
      "metadata": {
        "colab": {
          "base_uri": "https://localhost:8080/"
        },
        "id": "owayvXIMb3JI",
        "outputId": "fc2e5257-a15e-4533-ac7b-df730ba44c46"
      },
      "source": [
        "find_max_iter(10**5)"
      ],
      "execution_count": null,
      "outputs": [
        {
          "output_type": "execute_result",
          "data": {
            "text/plain": [
              "(77031, 221)"
            ]
          },
          "metadata": {
            "tags": []
          },
          "execution_count": 21
        }
      ]
    },
    {
      "cell_type": "code",
      "metadata": {
        "id": "dLS_mzwZb3JI"
      },
      "source": [
        "#collatz_verbose(77031)"
      ],
      "execution_count": null,
      "outputs": []
    },
    {
      "cell_type": "code",
      "metadata": {
        "id": "0htYPeGGb3JJ"
      },
      "source": [
        "def better_check(n):\r\n",
        "  for i in range(3,n+1,2):\r\n",
        "    c = i\r\n",
        "    while c >= i:\r\n",
        "      if c % 2 == 0:\r\n",
        "        c //= 2\r\n",
        "      if c % 2 == 1:\r\n",
        "        c = (3 * c + 1) // 2\r\n",
        "  print(\"Verified up to {}\".format(n))\r\n"
      ],
      "execution_count": null,
      "outputs": []
    },
    {
      "cell_type": "code",
      "metadata": {
        "id": "YRUTtebNlWwd",
        "colab": {
          "base_uri": "https://localhost:8080/"
        },
        "outputId": "589a05b5-3102-40c1-ad25-9e335897f39c"
      },
      "source": [
        "better_check(10**9)"
      ],
      "execution_count": null,
      "outputs": [
        {
          "output_type": "stream",
          "text": [
            "Verified up to 1000000000\n"
          ],
          "name": "stdout"
        }
      ]
    },
    {
      "cell_type": "code",
      "metadata": {
        "id": "JFFVDOZUlikX"
      },
      "source": [
        "def sigma(n):\r\n",
        "  '''\r\n",
        "  Finds and returns the \"dropping time\" of n.\r\n",
        "  This is the number of 3n+1 loops that it takes\r\n",
        "  for n to become less than where it started.\r\n",
        "  '''\r\n",
        "  i = n # i will be the variable that changes\r\n",
        "  loops = 0 # track the dropping time here\r\n",
        "  while i >= n: # stop when i < n\r\n",
        "    if i % 2 == 0:\r\n",
        "      i //= 2\r\n",
        "      loops += 1\r\n",
        "    else:\r\n",
        "      i = (3 * i + 1) // 2\r\n",
        "      loops += 2 # We can combine 2 steps in to one here since 3i+1 is always even\r\n",
        "  return loops"
      ],
      "execution_count": 1,
      "outputs": []
    },
    {
      "cell_type": "code",
      "metadata": {
        "id": "4qYoHYk0TLad"
      },
      "source": [
        "def best_sigmas(n):\r\n",
        "  '''\r\n",
        "  Creates and returns a list all positive ints\r\n",
        "  less than or equal to n whose dropping time\r\n",
        "  is greater than the dropping times of all\r\n",
        "  smaller positive ints. Also returns the dropping\r\n",
        "  times.\r\n",
        "  '''\r\n",
        "  int_list = [2]\r\n",
        "  sigma_list = [1] # initialize at 2 and start checking at 3\r\n",
        "  for i in range(3,n+1,2):\r\n",
        "    sig_i = sigma(i) # save this as a variable so we don't have to run it twice\r\n",
        "    if sig_i > sigma_list[-1]:\r\n",
        "      int_list.append(i)\r\n",
        "      sigma_list.append(sig_i)\r\n",
        "  return int_list,sigma_list"
      ],
      "execution_count": 24,
      "outputs": []
    },
    {
      "cell_type": "code",
      "metadata": {
        "id": "WR_Fv3WjbGlp",
        "outputId": "6e6238ef-cdd7-4926-ab12-728898a6de6a",
        "colab": {
          "base_uri": "https://localhost:8080/"
        }
      },
      "source": [
        "best_sigmas(10**5)"
      ],
      "execution_count": 29,
      "outputs": [
        {
          "output_type": "execute_result",
          "data": {
            "text/plain": [
              "([2, 3, 7, 27, 703, 10087, 35655], [1, 6, 11, 96, 132, 171, 220])"
            ]
          },
          "metadata": {
            "tags": []
          },
          "execution_count": 29
        }
      ]
    },
    {
      "cell_type": "code",
      "metadata": {
        "id": "cqulDXAgTPDp",
        "outputId": "ad899de6-cbcb-4fab-9af9-ca627f773d50",
        "colab": {
          "base_uri": "https://localhost:8080/",
          "height": 283
        }
      },
      "source": [
        "import matplotlib.pyplot as plt\r\n",
        "my_list = best_sigmas(10**5)\r\n",
        "plt.plot(my_list[1],my_list[0])"
      ],
      "execution_count": 33,
      "outputs": [
        {
          "output_type": "execute_result",
          "data": {
            "text/plain": [
              "[<matplotlib.lines.Line2D at 0x7fa3b3bb6be0>]"
            ]
          },
          "metadata": {
            "tags": []
          },
          "execution_count": 33
        },
        {
          "output_type": "display_data",
          "data": {
            "image/png": "[encoded data removed]",
            "text/plain": [
              "<Figure size 432x288 with 1 Axes>"
            ]
          },
          "metadata": {
            "tags": [],
            "needs_background": "light"
          }
        }
      ]
    },
    {
      "cell_type": "code",
      "metadata": {
        "id": "gYhelZxYW07p"
      },
      "source": [
        ""
      ],
      "execution_count": null,
      "outputs": []
    }
  ]
}