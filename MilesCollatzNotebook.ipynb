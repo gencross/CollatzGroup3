{
  "nbformat": 4,
  "nbformat_minor": 0,
  "metadata": {
    "kernelspec": {
      "display_name": "Python 3",
      "language": "python",
      "name": "python3"
    },
    "language_info": {
      "codemirror_mode": {
        "name": "ipython",
        "version": 3
      },
      "file_extension": ".py",
      "mimetype": "text/x-python",
      "name": "python",
      "nbconvert_exporter": "python",
      "pygments_lexer": "ipython3",
      "version": "3.8.5"
    },
    "colab": {
      "name": "MilesCollatzNotebook.ipynb",
      "provenance": [],
      "collapsed_sections": [],
      "include_colab_link": true
    }
  },
  "cells": [
    {
      "cell_type": "markdown",
      "metadata": {
        "id": "view-in-github",
        "colab_type": "text"
      },
      "source": [
        "<a href=\"https://colab.research.google.com/github/gencross/CollatzGroup3/blob/main/MilesCollatzNotebook.ipynb\" target=\"_parent\"><img src=\"https://colab.research.google.com/assets/colab-badge.svg\" alt=\"Open In Colab\"/></a>"
      ]
    },
    {
      "cell_type": "code",
      "metadata": {
        "id": "07JhRV_xb3JA"
      },
      "source": [
        "def collatz_verbose(n):\n",
        "  '''\n",
        "  Prints the orbit of n\n",
        "  '''\n",
        "  while abs(n) != 1: #check if n has reached 1 or -1\n",
        "    print(n)\n",
        "    if n % 2 == 0: #if n is even, divide by 2 and repeat\n",
        "      n //= 2\n",
        "    else: #if n is odd, do 3n+1 and repeat\n",
        "      n = (3 * n + 1)\n",
        "  return"
      ],
      "execution_count": null,
      "outputs": []
    },
    {
      "cell_type": "code",
      "metadata": {
        "id": "2dYv6akmb3JF"
      },
      "source": [
        "def collatz_iterations(n):\n",
        "  '''\n",
        "  Return how many iterations it takes for\n",
        "  n to go to 1\n",
        "  '''\n",
        "  iterations = 0\n",
        "  while n != 1:\n",
        "    if n % 2 == 0:\n",
        "      n //= 2\n",
        "    else:\n",
        "      n = (3 * n + 1) // 2\n",
        "    iterations += 1\n",
        "  return iterations"
      ],
      "execution_count": null,
      "outputs": []
    },
    {
      "cell_type": "code",
      "metadata": {
        "id": "an0YIErUb3JF"
      },
      "source": [
        "def collatz_check(n):\n",
        "  '''\n",
        "  Returns True if n passes\n",
        "  the Collatz conjecture\n",
        "  '''\n",
        "  while n != 1:\n",
        "    if n % 2 == 0:\n",
        "      n //= 2\n",
        "    else:\n",
        "      n = (3 * n + 1) // 2\n",
        "  return True"
      ],
      "execution_count": null,
      "outputs": []
    },
    {
      "cell_type": "code",
      "metadata": {
        "colab": {
          "base_uri": "https://localhost:8080/"
        },
        "id": "KzXLsGpQb3JG",
        "outputId": "b4f79ea6-7112-4f12-97f9-cee7d1b2823b"
      },
      "source": [
        "for i in range(2,10**5):\n",
        "  if collatz_check(i) != True:\n",
        "    print(\"Fields Medal!!!\", i)\n",
        "print(\"Check complete.\")    "
      ],
      "execution_count": null,
      "outputs": [
        {
          "output_type": "stream",
          "text": [
            "Check complete.\n"
          ],
          "name": "stdout"
        }
      ]
    },
    {
      "cell_type": "code",
      "metadata": {
        "id": "h5V2pCUXb3JH"
      },
      "source": [
        "def find_max_iter(n):\n",
        "  '''\n",
        "  Checks for the number with the longest orbit\n",
        "  up to n. Returns a tuple. The first value is\n",
        "  the number, the second value is the number of \n",
        "  iterations.\n",
        "  '''\n",
        "  max_iter = 0\n",
        "  max_iter_n = 0\n",
        "  for i in range(2,n+1):\n",
        "    i_iter = collatz_iterations(i)\n",
        "    if i_iter > max_iter:\n",
        "      max_iter = i_iter\n",
        "      max_iter_n = i\n",
        "  return max_iter_n, max_iter"
      ],
      "execution_count": null,
      "outputs": []
    },
    {
      "cell_type": "code",
      "metadata": {
        "colab": {
          "base_uri": "https://localhost:8080/"
        },
        "id": "owayvXIMb3JI",
        "outputId": "fc2e5257-a15e-4533-ac7b-df730ba44c46"
      },
      "source": [
        "find_max_iter(10**5)"
      ],
      "execution_count": null,
      "outputs": [
        {
          "output_type": "execute_result",
          "data": {
            "text/plain": [
              "(77031, 221)"
            ]
          },
          "metadata": {
            "tags": []
          },
          "execution_count": 21
        }
      ]
    },
    {
      "cell_type": "code",
      "metadata": {
        "id": "dLS_mzwZb3JI"
      },
      "source": [
        "#collatz_verbose(77031)"
      ],
      "execution_count": null,
      "outputs": []
    },
    {
      "cell_type": "code",
      "metadata": {
        "id": "0htYPeGGb3JJ"
      },
      "source": [
        "def better_check(n):\r\n",
        "  for i in range(3,n+1,2):\r\n",
        "    c = i\r\n",
        "    while c >= i:\r\n",
        "      if c % 2 == 0:\r\n",
        "        c //= 2\r\n",
        "      if c % 2 == 1:\r\n",
        "        c = (3 * c + 1) // 2\r\n",
        "  print(\"Verified up to {}\".format(n))\r\n"
      ],
      "execution_count": null,
      "outputs": []
    },
    {
      "cell_type": "code",
      "metadata": {
        "id": "YRUTtebNlWwd",
        "colab": {
          "base_uri": "https://localhost:8080/"
        },
        "outputId": "589a05b5-3102-40c1-ad25-9e335897f39c"
      },
      "source": [
        "#better_check(10**9)"
      ],
      "execution_count": null,
      "outputs": [
        {
          "output_type": "stream",
          "text": [
            "Verified up to 1000000000\n"
          ],
          "name": "stdout"
        }
      ]
    },
    {
      "cell_type": "code",
      "metadata": {
        "id": "JFFVDOZUlikX"
      },
      "source": [
        "def sigma(n):\r\n",
        "  '''\r\n",
        "  Finds and returns the \"dropping time\" of n.\r\n",
        "  This is the number of 3n+1 loops that it takes\r\n",
        "  for n to become less than where it started.\r\n",
        "  '''\r\n",
        "  i = n # i will be the variable that changes\r\n",
        "  loops = 0 # track the dropping time here\r\n",
        "  while i >= n: # stop when i < n\r\n",
        "    if i % 2 == 0:\r\n",
        "      i //= 2\r\n",
        "      loops += 1\r\n",
        "    else:\r\n",
        "      i = (3 * i + 1) // 2\r\n",
        "      loops += 2 # We can combine 2 steps in to one here since 3i+1 is always even\r\n",
        "  return loops"
      ],
      "execution_count": 158,
      "outputs": []
    },
    {
      "cell_type": "code",
      "metadata": {
        "id": "4qYoHYk0TLad"
      },
      "source": [
        "def best_sigmas(n):\r\n",
        "  '''\r\n",
        "  Creates and returns a list all positive ints\r\n",
        "  less than or equal to n whose dropping time\r\n",
        "  is greater than the dropping times of all\r\n",
        "  smaller positive ints. Also returns the dropping\r\n",
        "  times.\r\n",
        "  '''\r\n",
        "  int_list = [2]\r\n",
        "  sigma_list = [1] # initialize at 2 and start checking at 3\r\n",
        "  for i in range(3,n+1,2):\r\n",
        "    sig_i = sigma(i) # save this as a variable so we don't have to run it twice\r\n",
        "    if sig_i > sigma_list[-1]:\r\n",
        "      int_list.append(i)\r\n",
        "      sigma_list.append(sig_i)\r\n",
        "  return int_list,sigma_list"
      ],
      "execution_count": null,
      "outputs": []
    },
    {
      "cell_type": "code",
      "metadata": {
        "colab": {
          "base_uri": "https://localhost:8080/"
        },
        "id": "WR_Fv3WjbGlp",
        "outputId": "f05114cd-13f7-4ffe-9146-1f3e6971c0cc"
      },
      "source": [
        "best_sigmas_list = best_sigmas(10**7)\r\n",
        "print(best_sigmas_list)"
      ],
      "execution_count": null,
      "outputs": [
        {
          "output_type": "stream",
          "text": [
            "([2, 3, 7, 27, 703, 10087, 35655, 270271, 362343, 381727, 626331, 1027431, 1126015, 8088063, 13421671, 20638335, 26716671, 56924955, 63728127], [1, 6, 11, 96, 132, 171, 220, 267, 269, 282, 287, 298, 365, 401, 468, 476, 486, 502, 613])\n"
          ],
          "name": "stdout"
        }
      ]
    },
    {
      "cell_type": "code",
      "metadata": {
        "colab": {
          "base_uri": "https://localhost:8080/",
          "height": 296
        },
        "id": "cqulDXAgTPDp",
        "outputId": "f5721edb-7fea-4e89-cc71-9b50533f064b"
      },
      "source": [
        "import matplotlib.pyplot as plt\r\n",
        "plt.plot(best_sigmas_list[0],best_sigmas_list[1])"
      ],
      "execution_count": null,
      "outputs": [
        {
          "output_type": "execute_result",
          "data": {
            "text/plain": [
              "[<matplotlib.lines.Line2D at 0x7fa3b39dcb38>]"
            ]
          },
          "metadata": {
            "tags": []
          },
          "execution_count": 42
        },
        {
          "output_type": "display_data",
          "data": {
            "image/png": "[encoded data removed]",
            "text/plain": [
              "<Figure size 432x288 with 1 Axes>"
            ]
          },
          "metadata": {
            "tags": [],
            "needs_background": "light"
          }
        }
      ]
    },
    {
      "cell_type": "code",
      "metadata": {
        "colab": {
          "base_uri": "https://localhost:8080/",
          "height": 283
        },
        "id": "gYhelZxYW07p",
        "outputId": "bda5b195-3d13-4c62-c3df-af8d55aa6945"
      },
      "source": [
        "import matplotlib.pyplot as plt\r\n",
        "plt.plot(list(range(1,len(best_sigmas_list[0])+1)),best_sigmas_list[1])"
      ],
      "execution_count": null,
      "outputs": [
        {
          "output_type": "execute_result",
          "data": {
            "text/plain": [
              "[<matplotlib.lines.Line2D at 0x7fa3b3ccf0b8>]"
            ]
          },
          "metadata": {
            "tags": []
          },
          "execution_count": 46
        },
        {
          "output_type": "display_data",
          "data": {
            "image/png": "[encoded data removed]",
            "text/plain": [
              "<Figure size 432x288 with 1 Axes>"
            ]
          },
          "metadata": {
            "tags": [],
            "needs_background": "light"
          }
        }
      ]
    },
    {
      "cell_type": "code",
      "metadata": {
        "id": "JaJ4SXimnDob"
      },
      "source": [
        "def sigma_a_mod_b(a,b):\r\n",
        "  '''\r\n",
        "  returns a list of all of the sigmas\r\n",
        "  for integers congruent to a mod b\r\n",
        "  up to 10**6\r\n",
        "  '''\r\n",
        "  sigma_list = []\r\n",
        "  for i in range(a,10**6,b):\r\n",
        "    sigma_list.append(sigma(i))\r\n",
        "  return sigma_list"
      ],
      "execution_count": 195,
      "outputs": []
    },
    {
      "cell_type": "code",
      "metadata": {
        "id": "NLPlHWvLtajj"
      },
      "source": [
        "#sigma_a_mod_b(1,4)[0:100]"
      ],
      "execution_count": 156,
      "outputs": []
    },
    {
      "cell_type": "code",
      "metadata": {
        "id": "9dUtMlMdn43p"
      },
      "source": [
        "def histogram_plot(l):\r\n",
        "  '''\r\n",
        "  plot a histogram from the entries of l\r\n",
        "  '''\r\n",
        "  import matplotlib.pyplot as plt\r\n",
        "  index = []\r\n",
        "  data = []\r\n",
        "  for i in l:\r\n",
        "    index.append(i[0])\r\n",
        "    data.append(i[1])\r\n",
        "  plt.plot(index,data)"
      ],
      "execution_count": 117,
      "outputs": []
    },
    {
      "cell_type": "code",
      "metadata": {
        "id": "faEOOkSvoQWV"
      },
      "source": [
        "from statistics import mean\r\n",
        "def average_sigma(a,n):\r\n",
        "  average_sigma_list = []\r\n",
        "  for i in range(1,n):\r\n",
        "    k = mean(sigma_a_mod_b(a,i))\r\n",
        "    average_sigma_list.append((i,k))\r\n",
        "  return average_sigma_list"
      ],
      "execution_count": 147,
      "outputs": []
    },
    {
      "cell_type": "code",
      "metadata": {
        "id": "E7XrdAWNpQ5k"
      },
      "source": [
        "avg_list = average_sigma(47,300)"
      ],
      "execution_count": 218,
      "outputs": []
    },
    {
      "cell_type": "code",
      "metadata": {
        "id": "Al6VoqdzpA8U",
        "outputId": "8295ec29-3a2f-40e5-8654-491e1cfa8338",
        "colab": {
          "base_uri": "https://localhost:8080/",
          "height": 265
        }
      },
      "source": [
        "histogram_plot(avg_list)"
      ],
      "execution_count": 220,
      "outputs": [
        {
          "output_type": "display_data",
          "data": {
            "image/png": "[encoded data removed]",
            "text/plain": [
              "<Figure size 432x288 with 1 Axes>"
            ]
          },
          "metadata": {
            "tags": [],
            "needs_background": "light"
          }
        }
      ]
    },
    {
      "cell_type": "code",
      "metadata": {
        "id": "GfhtbY-xqo60",
        "outputId": "1a266f2a-3bdd-444d-f886-016d8ce57abf",
        "colab": {
          "base_uri": "https://localhost:8080/"
        }
      },
      "source": [
        "avg_list"
      ],
      "execution_count": 219,
      "outputs": [
        {
          "output_type": "execute_result",
          "data": {
            "text/plain": [
              "[(1, 5.226184630677642),\n",
              " (2, 9.452360808597195),\n",
              " (3, 5.224014304658014),\n",
              " (4, 15.904695806615491),\n",
              " (5, 5.219084858818647),\n",
              " (6, 9.448028609316028),\n",
              " (7, 5.242168413241769),\n",
              " (8, 21.381255250210007),\n",
              " (9, 5.226828434107969),\n",
              " (10, 9.438127525101004),\n",
              " (11, 5.250063252846378),\n",
              " (12, 15.895979839193568),\n",
              " (13, 5.215353614144566),\n",
              " (14, 9.484277433987623),\n",
              " (15, 5.225834033361335),\n",
              " (16, 27.89572466318922),\n",
              " (17, 5.190085173662467),\n",
              " (18, 9.453656868215939),\n",
              " (19, 5.207999239977199),\n",
              " (20, 15.876255050202008),\n",
              " (21, 5.229077850347565),\n",
              " (22, 9.500033001122038),\n",
              " (23, 5.238907928329922),\n",
              " (24, 21.370142805712227),\n",
              " (25, 5.218605465136628),\n",
              " (26, 9.430707228289132),\n",
              " (27, 5.208796846311697),\n",
              " (28, 15.968554867975246),\n",
              " (29, 5.225943970767357),\n",
              " (30, 9.45166806672267),\n",
              " (31, 5.218557212388009),\n",
              " (32, 21.677941694134212),\n",
              " (33, 5.241106197610719),\n",
              " (34, 9.3800278807249),\n",
              " (35, 5.237548563228448),\n",
              " (36, 15.907081398279152),\n",
              " (37, 5.246207355879523),\n",
              " (38, 9.415998479954398),\n",
              " (39, 5.226989079563182),\n",
              " (40, 21.35669426777071),\n",
              " (41, 5.215047150471505),\n",
              " (42, 9.457978075517662),\n",
              " (43, 5.265749301225543),\n",
              " (44, 15.999779997359969),\n",
              " (45, 5.24079740797408),\n",
              " (46, 9.477620865725195),\n",
              " (47, 5.203562699755593),\n",
              " (48, 27.89991839869438),\n",
              " (49, 5.221530772246178),\n",
              " (50, 9.437),\n",
              " (51, 5.217881368898863),\n",
              " (52, 15.861414456578263),\n",
              " (53, 5.272312910748357),\n",
              " (54, 9.417593692623393),\n",
              " (55, 5.243550959793191),\n",
              " (56, 21.53189225513804),\n",
              " (57, 5.244300045599635),\n",
              " (58, 9.451887941534714),\n",
              " (59, 5.2039648356835215),\n",
              " (60, 15.903336133445338),\n",
              " (61, 5.205758555480998),\n",
              " (62, 9.436852873705748),\n",
              " (63, 5.26951426951427),\n",
              " (64, 27.522176),\n",
              " (65, 5.270475819032761),\n",
              " (66, 9.482212395221438),\n",
              " (67, 5.258626465661641),\n",
              " (68, 15.759621923024616),\n",
              " (69, 5.311322707513972),\n",
              " (70, 9.47480050398992),\n",
              " (71, 5.263703493325759),\n",
              " (72, 21.428828569371444),\n",
              " (73, 5.203533362534676),\n",
              " (74, 9.492414711759046),\n",
              " (75, 5.171229280732018),\n",
              " (76, 15.831509347925216),\n",
              " (77, 5.310849310849311),\n",
              " (78, 9.453978159126365),\n",
              " (79, 5.219702954653184),\n",
              " (80, 27.87184),\n",
              " (81, 5.187024137372428),\n",
              " (82, 9.43009430094301),\n",
              " (83, 5.27597941567065),\n",
              " (84, 15.915413691726165),\n",
              " (85, 5.203569910752231),\n",
              " (86, 9.531131750945992),\n",
              " (87, 5.183661040542892),\n",
              " (88, 21.565645899331223),\n",
              " (89, 5.2396760412958345),\n",
              " (90, 9.48159481594816),\n",
              " (91, 5.256711256711257),\n",
              " (92, 15.954645814167433),\n",
              " (93, 5.206082023621315),\n",
              " (94, 9.407125399511186),\n",
              " (95, 5.217651529545886),\n",
              " (96, 21.64865124316022),\n",
              " (97, 5.269764283635658),\n",
              " (98, 9.443061544492355),\n",
              " (99, 5.2688842688842685),\n",
              " (100, 15.874),\n",
              " (101, 5.195535804464195),\n",
              " (102, 9.43533251733986),\n",
              " (103, 5.24853228962818),\n",
              " (104, 21.388351534061364),\n",
              " (105, 5.245170096598068),\n",
              " (106, 9.544625821496714),\n",
              " (107, 5.233147870746843),\n",
              " (108, 15.835187385246787),\n",
              " (109, 5.277087420972313),\n",
              " (110, 9.486635133648663),\n",
              " (111, 5.209013209013209),\n",
              " (112, 28.17963937730989),\n",
              " (113, 5.2575141242937855),\n",
              " (114, 9.48860009119927),\n",
              " (115, 5.271389144434223),\n",
              " (116, 15.903027491010324),\n",
              " (117, 5.26980226980227),\n",
              " (118, 9.407433628318584),\n",
              " (119, 5.26538141140069),\n",
              " (120, 21.408016320652827),\n",
              " (121, 5.212825166364186),\n",
              " (122, 9.41100402586312),\n",
              " (123, 5.2955719557195575),\n",
              " (124, 15.872907625542467),\n",
              " (125, 5.209625),\n",
              " (126, 9.538490613581958),\n",
              " (127, 5.225298450596902),\n",
              " (128, 20.76270318699603),\n",
              " (129, 5.311274509803922),\n",
              " (130, 9.540951638065522),\n",
              " (131, 5.126539166884988),\n",
              " (132, 15.963569165786694),\n",
              " (133, 5.130469477324112),\n",
              " (134, 9.516682299343428),\n",
              " (135, 5.193439524838013),\n",
              " (136, 21.172582619339046),\n",
              " (137, 5.1411152212631865),\n",
              " (138, 9.622050503656686),\n",
              " (139, 5.210453155407284),\n",
              " (140, 15.94960100797984),\n",
              " (141, 5.178934010152284),\n",
              " (142, 9.527406986651519),\n",
              " (143, 5.135421135421136),\n",
              " (144, 28.020158387329015),\n",
              " (145, 5.198782079164855),\n",
              " (146, 9.407066725069352),\n",
              " (147, 5.156548581508158),\n",
              " (148, 15.983868580731095),\n",
              " (149, 5.252085816448153),\n",
              " (150, 9.341832908354583),\n",
              " (151, 5.2349388494639895),\n",
              " (152, 21.36814105487156),\n",
              " (153, 5.298500611995104),\n",
              " (154, 9.621034801355098),\n",
              " (155, 5.252944823310601),\n",
              " (156, 15.90795631825273),\n",
              " (157, 5.233281004709577),\n",
              " (158, 9.439405909306368),\n",
              " (159, 5.238632750397456),\n",
              " (160, 21.58752),\n",
              " (161, 5.1969087103526),\n",
              " (162, 9.374048274744856),\n",
              " (163, 5.1737571312143436),\n",
              " (164, 15.859134142341752),\n",
              " (165, 5.203101798383105),\n",
              " (166, 9.5519588313413),\n",
              " (167, 5.257682030728123),\n",
              " (168, 21.449689232319837),\n",
              " (169, 5.238127429440595),\n",
              " (170, 9.406425293217746),\n",
              " (171, 5.2315321477428185),\n",
              " (172, 16.062263501891984),\n",
              " (173, 5.169693824597821),\n",
              " (174, 9.367322081085783),\n",
              " (175, 5.226771653543307),\n",
              " (176, 28.139035550862374),\n",
              " (177, 5.269203539823009),\n",
              " (178, 9.479352082591669),\n",
              " (179, 5.192947914802219),\n",
              " (180, 15.962023038156948),\n",
              " (181, 5.1793665158371045),\n",
              " (182, 9.512647861692448),\n",
              " (183, 5.224702653247942),\n",
              " (184, 21.51039558417663),\n",
              " (185, 5.257676655567887),\n",
              " (186, 9.411381811419007),\n",
              " (187, 5.233358264771877),\n",
              " (188, 15.814250799022373),\n",
              " (189, 5.233604233604233),\n",
              " (190, 9.435303059091773),\n",
              " (191, 5.132352941176471),\n",
              " (192, 27.500287963140718),\n",
              " (193, 5.253377074488615),\n",
              " (194, 9.538700290979632),\n",
              " (195, 5.316692667706708),\n",
              " (196, 15.886123088984712),\n",
              " (197, 5.260244286840032),\n",
              " (198, 9.536923381508613),\n",
              " (199, 5.061691542288557),\n",
              " (200, 21.293),\n",
              " (201, 5.286633165829146),\n",
              " (202, 9.390224197131893),\n",
              " (203, 5.251116524563541),\n",
              " (204, 15.870665034679723),\n",
              " (205, 5.099220992209922),\n",
              " (206, 9.496189495365602),\n",
              " (207, 5.345063133926724),\n",
              " (208, 28.059068219633943),\n",
              " (209, 5.200417972831766),\n",
              " (210, 9.490340193196136),\n",
              " (211, 5.10464135021097),\n",
              " (212, 16.08925164299343),\n",
              " (213, 5.277742279020234),\n",
              " (214, 9.466295741493687),\n",
              " (215, 5.231133089658138),\n",
              " (216, 21.34924406047516),\n",
              " (217, 5.18854415274463),\n",
              " (218, 9.554174841944626),\n",
              " (219, 5.33180026281209),\n",
              " (220, 15.971843378794544),\n",
              " (221, 4.903204419889502),\n",
              " (222, 9.417092119866815),\n",
              " (223, 5.18149386845039),\n",
              " (224, 21.881298992161256),\n",
              " (225, 5.272215973003375),\n",
              " (226, 9.515028248587571),\n",
              " (227, 5.285292782569224),\n",
              " (228, 15.97720018239854),\n",
              " (229, 5.36340737348294),\n",
              " (230, 9.542778288868446),\n",
              " (231, 5.409101409101409),\n",
              " (232, 21.38552540013918),\n",
              " (233, 5.1199906803355075),\n",
              " (234, 9.538605521759475),\n",
              " (235, 5.2617481203007515),\n",
              " (236, 15.813355356300141),\n",
              " (237, 5.2156398104265405),\n",
              " (238, 9.529747739171823),\n",
              " (239, 5.227294455066922),\n",
              " (240, 27.996160307175426),\n",
              " (241, 5.240963855421687),\n",
              " (242, 9.424631018630535),\n",
              " (243, 5.2682215743440235),\n",
              " (244, 15.820444010734326),\n",
              " (245, 5.246692797648212),\n",
              " (246, 9.591143911439115),\n",
              " (247, 5.248456408989874),\n",
              " (248, 21.294569799156957),\n",
              " (249, 5.301294820717131),\n",
              " (250, 9.41925),\n",
              " (251, 5.2718373493975905),\n",
              " (252, 16.0753338372386),\n",
              " (253, 5.401214267644827),\n",
              " (254, 9.450596901193803),\n",
              " (255, 5.335033146353901),\n",
              " (256, 28.523419503455337),\n",
              " (257, 5.185042405551272),\n",
              " (258, 9.622549019607844),\n",
              " (259, 5.314426314426314),\n",
              " (260, 16.081903276131044),\n",
              " (261, 5.284185803757829),\n",
              " (262, 9.253078333769976),\n",
              " (263, 5.262950302392848),\n",
              " (264, 21.542766631467792),\n",
              " (265, 5.259671436142025),\n",
              " (266, 9.259840425531914),\n",
              " (267, 5.3139348638547785),\n",
              " (268, 16.031618435155412),\n",
              " (269, 5.300430338891878),\n",
              " (270, 9.386879049676025),\n",
              " (271, 5.23739837398374),\n",
              " (272, 27.472939896654882),\n",
              " (273, 5.190554190554191),\n",
              " (274, 9.28109589041096),\n",
              " (275, 5.227110255705251),\n",
              " (276, 16.242273730684328),\n",
              " (277, 5.368975069252078),\n",
              " (278, 9.420906310814567),\n",
              " (279, 5.353695955369596),\n",
              " (280, 21.612262038073908),\n",
              " (281, 5.088788985670132),\n",
              " (282, 9.357868020304569),\n",
              " (283, 5.2470288624787775),\n",
              " (284, 16.054813973303037),\n",
              " (285, 5.275007124536905),\n",
              " (286, 9.269659708321418),\n",
              " (287, 5.269153515064563),\n",
              " (288, 21.587388424992803),\n",
              " (289, 5.142155446402774),\n",
              " (290, 9.396346767178892),\n",
              " (291, 5.310736107070119),\n",
              " (292, 15.812262773722628),\n",
              " (293, 5.129211837093466),\n",
              " (294, 9.311875367430924),\n",
              " (295, 5.2262536873156344),\n",
              " (296, 21.605800532701984),\n",
              " (297, 5.25007425007425),\n",
              " (298, 9.504171632896306),\n",
              " (299, 5.188041853512706)]"
            ]
          },
          "metadata": {
            "tags": []
          },
          "execution_count": 219
        }
      ]
    },
    {
      "cell_type": "code",
      "metadata": {
        "id": "VP_9777ysO4z"
      },
      "source": [
        ""
      ],
      "execution_count": null,
      "outputs": []
    }
  ]
}