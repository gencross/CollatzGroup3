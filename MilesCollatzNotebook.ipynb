{
  "nbformat": 4,
  "nbformat_minor": 0,
  "metadata": {
    "kernelspec": {
      "display_name": "Python 3",
      "language": "python",
      "name": "python3"
    },
    "language_info": {
      "codemirror_mode": {
        "name": "ipython",
        "version": 3
      },
      "file_extension": ".py",
      "mimetype": "text/x-python",
      "name": "python",
      "nbconvert_exporter": "python",
      "pygments_lexer": "ipython3",
      "version": "3.8.5"
    },
    "colab": {
      "name": "MilesCollatzNotebook.ipynb",
      "provenance": [],
      "collapsed_sections": [],
      "include_colab_link": true
    }
  },
  "cells": [
    {
      "cell_type": "markdown",
      "metadata": {
        "id": "view-in-github",
        "colab_type": "text"
      },
      "source": [
        "<a href=\"https://colab.research.google.com/github/gencross/CollatzGroup3/blob/main/MilesCollatzNotebook.ipynb\" target=\"_parent\"><img src=\"https://colab.research.google.com/assets/colab-badge.svg\" alt=\"Open In Colab\"/></a>"
      ]
    },
    {
      "cell_type": "code",
      "metadata": {
        "id": "07JhRV_xb3JA"
      },
      "source": [
        "def collatz_verbose(n):\n",
        "  '''\n",
        "  Prints the orbit of n\n",
        "  '''\n",
        "  while n != 1:\n",
        "    print(n)\n",
        "    if n % 2 == 0:\n",
        "      n //= 2\n",
        "    else:\n",
        "      n = (3 * n + 1) // 2\n",
        "  return"
      ],
      "execution_count": 16,
      "outputs": []
    },
    {
      "cell_type": "code",
      "metadata": {
        "id": "2dYv6akmb3JF"
      },
      "source": [
        "def collatz_iterations(n):\n",
        "  '''\n",
        "  Return how many iterations it takes for\n",
        "  n to go to 1\n",
        "  '''\n",
        "  iterations = 0\n",
        "  while n != 1:\n",
        "    if n % 2 == 0:\n",
        "      n //= 2\n",
        "    else:\n",
        "      n = (3 * n + 1) // 2\n",
        "    iterations += 1\n",
        "  return iterations"
      ],
      "execution_count": 17,
      "outputs": []
    },
    {
      "cell_type": "code",
      "metadata": {
        "id": "an0YIErUb3JF"
      },
      "source": [
        "def collatz_check(n):\n",
        "  '''\n",
        "  Returns True if n passes\n",
        "  the Collatz conjecture\n",
        "  '''\n",
        "  while n != 1:\n",
        "    if n % 2 == 0:\n",
        "      n //= 2\n",
        "    else:\n",
        "      n = (3 * n + 1) // 2\n",
        "  return True"
      ],
      "execution_count": 18,
      "outputs": []
    },
    {
      "cell_type": "code",
      "metadata": {
        "colab": {
          "base_uri": "https://localhost:8080/"
        },
        "id": "KzXLsGpQb3JG",
        "outputId": "b4f79ea6-7112-4f12-97f9-cee7d1b2823b"
      },
      "source": [
        "for i in range(2,10**5):\n",
        "  if collatz_check(i) != True:\n",
        "    print(\"Fields Medal!!!\", i)\n",
        "print(\"Check complete.\")    "
      ],
      "execution_count": 19,
      "outputs": [
        {
          "output_type": "stream",
          "text": [
            "Check complete.\n"
          ],
          "name": "stdout"
        }
      ]
    },
    {
      "cell_type": "code",
      "metadata": {
        "id": "h5V2pCUXb3JH"
      },
      "source": [
        "def find_max_iter(n):\n",
        "  '''\n",
        "  Checks for the number with the longest orbit\n",
        "  up to n. Returns a tuple. The first value is\n",
        "  the number, the second value is the number of \n",
        "  iterations.\n",
        "  '''\n",
        "  max_iter = 0\n",
        "  max_iter_n = 0\n",
        "  for i in range(2,n+1):\n",
        "    i_iter = collatz_iterations(i)\n",
        "    if i_iter > max_iter:\n",
        "      max_iter = i_iter\n",
        "      max_iter_n = i\n",
        "  return max_iter_n, max_iter"
      ],
      "execution_count": 20,
      "outputs": []
    },
    {
      "cell_type": "code",
      "metadata": {
        "colab": {
          "base_uri": "https://localhost:8080/"
        },
        "id": "owayvXIMb3JI",
        "outputId": "fc2e5257-a15e-4533-ac7b-df730ba44c46"
      },
      "source": [
        "find_max_iter(10**5)"
      ],
      "execution_count": 21,
      "outputs": [
        {
          "output_type": "execute_result",
          "data": {
            "text/plain": [
              "(77031, 221)"
            ]
          },
          "metadata": {
            "tags": []
          },
          "execution_count": 21
        }
      ]
    },
    {
      "cell_type": "code",
      "metadata": {
        "colab": {
          "base_uri": "https://localhost:8080/"
        },
        "id": "dLS_mzwZb3JI",
        "outputId": "908333dc-b443-4860-c15f-cbf8a3afb1c9"
      },
      "source": [
        "collatz_verbose(77031)"
      ],
      "execution_count": 22,
      "outputs": [
        {
          "output_type": "stream",
          "text": [
            "77031\n",
            "115547\n",
            "173321\n",
            "259982\n",
            "129991\n",
            "194987\n",
            "292481\n",
            "438722\n",
            "219361\n",
            "329042\n",
            "164521\n",
            "246782\n",
            "123391\n",
            "185087\n",
            "277631\n",
            "416447\n",
            "624671\n",
            "937007\n",
            "1405511\n",
            "2108267\n",
            "3162401\n",
            "4743602\n",
            "2371801\n",
            "3557702\n",
            "1778851\n",
            "2668277\n",
            "4002416\n",
            "2001208\n",
            "1000604\n",
            "500302\n",
            "250151\n",
            "375227\n",
            "562841\n",
            "844262\n",
            "422131\n",
            "633197\n",
            "949796\n",
            "474898\n",
            "237449\n",
            "356174\n",
            "178087\n",
            "267131\n",
            "400697\n",
            "601046\n",
            "300523\n",
            "450785\n",
            "676178\n",
            "338089\n",
            "507134\n",
            "253567\n",
            "380351\n",
            "570527\n",
            "855791\n",
            "1283687\n",
            "1925531\n",
            "2888297\n",
            "4332446\n",
            "2166223\n",
            "3249335\n",
            "4874003\n",
            "7311005\n",
            "10966508\n",
            "5483254\n",
            "2741627\n",
            "4112441\n",
            "6168662\n",
            "3084331\n",
            "4626497\n",
            "6939746\n",
            "3469873\n",
            "5204810\n",
            "2602405\n",
            "3903608\n",
            "1951804\n",
            "975902\n",
            "487951\n",
            "731927\n",
            "1097891\n",
            "1646837\n",
            "2470256\n",
            "1235128\n",
            "617564\n",
            "308782\n",
            "154391\n",
            "231587\n",
            "347381\n",
            "521072\n",
            "260536\n",
            "130268\n",
            "65134\n",
            "32567\n",
            "48851\n",
            "73277\n",
            "109916\n",
            "54958\n",
            "27479\n",
            "41219\n",
            "61829\n",
            "92744\n",
            "46372\n",
            "23186\n",
            "11593\n",
            "17390\n",
            "8695\n",
            "13043\n",
            "19565\n",
            "29348\n",
            "14674\n",
            "7337\n",
            "11006\n",
            "5503\n",
            "8255\n",
            "12383\n",
            "18575\n",
            "27863\n",
            "41795\n",
            "62693\n",
            "94040\n",
            "47020\n",
            "23510\n",
            "11755\n",
            "17633\n",
            "26450\n",
            "13225\n",
            "19838\n",
            "9919\n",
            "14879\n",
            "22319\n",
            "33479\n",
            "50219\n",
            "75329\n",
            "112994\n",
            "56497\n",
            "84746\n",
            "42373\n",
            "63560\n",
            "31780\n",
            "15890\n",
            "7945\n",
            "11918\n",
            "5959\n",
            "8939\n",
            "13409\n",
            "20114\n",
            "10057\n",
            "15086\n",
            "7543\n",
            "11315\n",
            "16973\n",
            "25460\n",
            "12730\n",
            "6365\n",
            "9548\n",
            "4774\n",
            "2387\n",
            "3581\n",
            "5372\n",
            "2686\n",
            "1343\n",
            "2015\n",
            "3023\n",
            "4535\n",
            "6803\n",
            "10205\n",
            "15308\n",
            "7654\n",
            "3827\n",
            "5741\n",
            "8612\n",
            "4306\n",
            "2153\n",
            "3230\n",
            "1615\n",
            "2423\n",
            "3635\n",
            "5453\n",
            "8180\n",
            "4090\n",
            "2045\n",
            "3068\n",
            "1534\n",
            "767\n",
            "1151\n",
            "1727\n",
            "2591\n",
            "3887\n",
            "5831\n",
            "8747\n",
            "13121\n",
            "19682\n",
            "9841\n",
            "14762\n",
            "7381\n",
            "11072\n",
            "5536\n",
            "2768\n",
            "1384\n",
            "692\n",
            "346\n",
            "173\n",
            "260\n",
            "130\n",
            "65\n",
            "98\n",
            "49\n",
            "74\n",
            "37\n",
            "56\n",
            "28\n",
            "14\n",
            "7\n",
            "11\n",
            "17\n",
            "26\n",
            "13\n",
            "20\n",
            "10\n",
            "5\n",
            "8\n",
            "4\n",
            "2\n"
          ],
          "name": "stdout"
        }
      ]
    },
    {
      "cell_type": "code",
      "metadata": {
        "id": "0htYPeGGb3JJ"
      },
      "source": [
        ""
      ],
      "execution_count": 22,
      "outputs": []
    }
  ]
}