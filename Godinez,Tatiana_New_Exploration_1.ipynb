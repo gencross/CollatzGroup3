{
  "nbformat": 4,
  "nbformat_minor": 0,
  "metadata": {
    "colab": {
      "name": "Godinez,Tatiana-New Exploration#1.ipynb",
      "provenance": [],
      "collapsed_sections": [],
      "authorship_tag": "ABX9TyM/2IXxeWozqStzsUYVInep",
      "include_colab_link": true
    },
    "kernelspec": {
      "name": "python3",
      "display_name": "Python 3"
    }
  },
  "cells": [
    {
      "cell_type": "markdown",
      "metadata": {
        "id": "view-in-github",
        "colab_type": "text"
      },
      "source": [
        "<a href=\"https://colab.research.google.com/github/gencross/CollatzGroup3/blob/main/Godinez%2CTatiana_New_Exploration_1.ipynb\" target=\"_parent\"><img src=\"https://colab.research.google.com/assets/colab-badge.svg\" alt=\"Open In Colab\"/></a>"
      ]
    },
    {
      "cell_type": "markdown",
      "metadata": {
        "id": "CU3g43L_xrY2"
      },
      "source": [
        "#Exploration"
      ]
    },
    {
      "cell_type": "markdown",
      "metadata": {
        "id": "HGTIgbXwx4KH"
      },
      "source": [
        "Begin with a positive integer n.  If it is even, divide it by two.  If it is odd,replace  it  by  3n+ 1.   Then  repeat.   This  process  leads  to  fascinating  upsand downs, that mathematicians struggle to understand.  For example, if westart with 5, then the next number will be 3·5 + 1 = 16.  The next numberwill be 8, then 4, then 2, then 1.  The next number will be 3·1 + 1 = 4. Then 2.  Then 1.  In this way, the starting number 5 yields the sequence5,16,8,4,2,1,4,2,1,4,2,1,....It  is conjectured  (“the Collatz  conjecture”)  that  if  you start  with anypositive integern, the resulting sequence will eventually reach the “cycle”4,2,1,4,2,1.  But nobody can prove it! "
      ]
    },
    {
      "cell_type": "markdown",
      "metadata": {
        "id": "754MOIQXydwJ"
      },
      "source": [
        "#Exploring input Negative"
      ]
    },
    {
      "cell_type": "markdown",
      "metadata": {
        "id": "bPnDFos51jJq"
      },
      "source": [
        "In the original conjecture, it states if you start with any positive integer n, then the resulting sequence will eventually reach the \"cycle\" 4,2,1. Every postive number that we've tested has reached 1 i.e the \"cycle\" mentioned earlier. However what if the starting integer n is a negative number? We might think that it will surely reach a similar \"cycle\" that would look like -4,-2,-1. However, below is a function which verifies the conjecture and when inputted a negative number in the function the output varied. The negative integers inputted either gave a sequence that reached a \"cycle\" -4,-2,-1 similar to 4,2,1, (the postive conjecture \"cycle\") or gave an infinite loop. For example, when inputted -16, we got -16,-8,-4,-2,-1 and for -5 we are given the infinite loop of -5,-14, -7,-20, -10,etc..\n",
        "\n"
      ]
    },
    {
      "cell_type": "code",
      "metadata": {
        "id": "WxK7HAgb01p8"
      },
      "source": [
        "def collatz_verbose(n):\n",
        "  '''\n",
        "  Prints the orbit of n\n",
        "  '''\n",
        "  while abs(n) != 1: \n",
        "    print(n)\n",
        "    if n % 2 == 0: \n",
        "      n //= 2\n",
        "    else: \n",
        "      n = (3 * n + 1)\n",
        "  return"
      ],
      "execution_count": 65,
      "outputs": []
    },
    {
      "cell_type": "code",
      "metadata": {
        "colab": {
          "base_uri": "https://localhost:8080/"
        },
        "id": "AbmWi-V0Syn_",
        "outputId": "481aa67d-f15a-4922-c813-3c565af12da3"
      },
      "source": [
        "collatz_verbose(-6)"
      ],
      "execution_count": 68,
      "outputs": [
        {
          "output_type": "stream",
          "text": [
            "-6\n",
            "-3\n",
            "-8\n",
            "-4\n",
            "-2\n"
          ],
          "name": "stdout"
        }
      ]
    },
    {
      "cell_type": "code",
      "metadata": {
        "id": "3HA1QBf0XH9N"
      },
      "source": [
        "collatz_verbose( -5) # this will go on forever"
      ],
      "execution_count": null,
      "outputs": []
    },
    {
      "cell_type": "markdown",
      "metadata": {
        "id": "HihfsIbV0MUb"
      },
      "source": [
        "**Below**: The following was created in order to not run into this infinite loop situation. If the value reached -1 then it broke ('break') the loop and did everything outside that loop (printing the value, the sequence that that integer produced). However, if the negative integer did not reach this \"cycle\" and produced an infinite loop then it would print the numbers in the loop as well as informing us that it is infinite. The 'enter a number, enter 0 to exist' helps to stop the infinte sequence. "
      ]
    },
    {
      "cell_type": "code",
      "metadata": {
        "id": "H7rXIRPOVS9C",
        "colab": {
          "base_uri": "https://localhost:8080/"
        },
        "outputId": "9c1dfebd-ea48-4e45-9556-067a24d1a605"
      },
      "source": [
        "n= m\n",
        "while n != 0: \n",
        "  n = int(input(\"Enter a number, enter 0 to exit:\"))\n",
        "  values = []\n",
        "     \n",
        "  if n ==0:\n",
        "    break \n",
        "    \n",
        "  while abs(n) != 1:\n",
        "    print(n)\n",
        "      \n",
        "    if n in values:\n",
        "      print('infinite')\n",
        "      break\n",
        "    values.append(n)\n",
        "\n",
        "    if n % 2 == 0:\n",
        "      n //= 2\n",
        "    else: \n",
        "        n = (3 * n + 1)\n",
        "    print (values)\n",
        "\n",
        "print (n)"
      ],
      "execution_count": 72,
      "outputs": [
        {
          "output_type": "stream",
          "text": [
            "Enter a number, enter 0 to exit:-6\n",
            "-6\n",
            "[-6]\n",
            "-3\n",
            "[-6, -3]\n",
            "-8\n",
            "[-6, -3, -8]\n",
            "-4\n",
            "[-6, -3, -8, -4]\n",
            "-2\n",
            "[-6, -3, -8, -4, -2]\n",
            "Enter a number, enter 0 to exit:-7\n",
            "-7\n",
            "[-7]\n",
            "-20\n",
            "[-7, -20]\n",
            "-10\n",
            "[-7, -20, -10]\n",
            "-5\n",
            "[-7, -20, -10, -5]\n",
            "-14\n",
            "[-7, -20, -10, -5, -14]\n",
            "-7\n",
            "infinite\n",
            "Enter a number, enter 0 to exit:0\n",
            "0\n"
          ],
          "name": "stdout"
        }
      ]
    },
    {
      "cell_type": "markdown",
      "metadata": {
        "id": "R9F8Ni8FdthW"
      },
      "source": [
        "**Below:** We were unable to determine which negative number would produce this infinite sequence versus those that would reach -1, that is why below we have a list that demonstrates the negative numbers between -1 to -100. Some have an infinte loop which hold this \"cycle\" similar to the postive integers of 4,2,1 and in this case it reaches -1."
      ]
    },
    {
      "cell_type": "code",
      "metadata": {
        "colab": {
          "base_uri": "https://localhost:8080/"
        },
        "id": "ZTtQ42wyr_LG",
        "outputId": "0692701f-956e-4f51-f50e-dddc4ada2b9e"
      },
      "source": [
        "inf=[]\n",
        "for m in range(-1,-100,-1):\n",
        "    n = m\n",
        "    printit= True\n",
        "    values =[]\n",
        "\n",
        "    if n==0:\n",
        "      break\n",
        "    \n",
        "    while abs(n) !=1:\n",
        "\n",
        "      if n in values:\n",
        "        printit = False \n",
        "        inf.append(n)\n",
        "        break\n",
        "      values.append(n)\n",
        "\n",
        "      if n % 2 ==0:\n",
        "        n //= 2\n",
        "      else:\n",
        "        n=(3 * n +1)\n",
        "    if printit:\n",
        "      print(m,values)\n",
        "print(inf)"
      ],
      "execution_count": 28,
      "outputs": [
        {
          "output_type": "stream",
          "text": [
            "-1 []\n",
            "-2 [-2]\n",
            "-3 [-3, -8, -4, -2]\n",
            "-4 [-4, -2]\n",
            "-6 [-6, -3, -8, -4, -2]\n",
            "-8 [-8, -4, -2]\n",
            "-11 [-11, -32, -16, -8, -4, -2]\n",
            "-12 [-12, -6, -3, -8, -4, -2]\n",
            "-15 [-15, -44, -22, -11, -32, -16, -8, -4, -2]\n",
            "-16 [-16, -8, -4, -2]\n",
            "-22 [-22, -11, -32, -16, -8, -4, -2]\n",
            "-24 [-24, -12, -6, -3, -8, -4, -2]\n",
            "-29 [-29, -86, -43, -128, -64, -32, -16, -8, -4, -2]\n",
            "-30 [-30, -15, -44, -22, -11, -32, -16, -8, -4, -2]\n",
            "-32 [-32, -16, -8, -4, -2]\n",
            "-39 [-39, -116, -58, -29, -86, -43, -128, -64, -32, -16, -8, -4, -2]\n",
            "-43 [-43, -128, -64, -32, -16, -8, -4, -2]\n",
            "-44 [-44, -22, -11, -32, -16, -8, -4, -2]\n",
            "-48 [-48, -24, -12, -6, -3, -8, -4, -2]\n",
            "-53 [-53, -158, -79, -236, -118, -59, -176, -88, -44, -22, -11, -32, -16, -8, -4, -2]\n",
            "-57 [-57, -170, -85, -254, -127, -380, -190, -95, -284, -142, -71, -212, -106, -53, -158, -79, -236, -118, -59, -176, -88, -44, -22, -11, -32, -16, -8, -4, -2]\n",
            "-58 [-58, -29, -86, -43, -128, -64, -32, -16, -8, -4, -2]\n",
            "-59 [-59, -176, -88, -44, -22, -11, -32, -16, -8, -4, -2]\n",
            "-60 [-60, -30, -15, -44, -22, -11, -32, -16, -8, -4, -2]\n",
            "-64 [-64, -32, -16, -8, -4, -2]\n",
            "-65 [-65, -194, -97, -290, -145, -434, -217, -650, -325, -974, -487, -1460, -730, -365, -1094, -547, -1640, -820, -410, -205, -614, -307, -920, -460, -230, -115, -344, -172, -86, -43, -128, -64, -32, -16, -8, -4, -2]\n",
            "-69 [-69, -206, -103, -308, -154, -77, -230, -115, -344, -172, -86, -43, -128, -64, -32, -16, -8, -4, -2]\n",
            "-71 [-71, -212, -106, -53, -158, -79, -236, -118, -59, -176, -88, -44, -22, -11, -32, -16, -8, -4, -2]\n",
            "-77 [-77, -230, -115, -344, -172, -86, -43, -128, -64, -32, -16, -8, -4, -2]\n",
            "-78 [-78, -39, -116, -58, -29, -86, -43, -128, -64, -32, -16, -8, -4, -2]\n",
            "-79 [-79, -236, -118, -59, -176, -88, -44, -22, -11, -32, -16, -8, -4, -2]\n",
            "-85 [-85, -254, -127, -380, -190, -95, -284, -142, -71, -212, -106, -53, -158, -79, -236, -118, -59, -176, -88, -44, -22, -11, -32, -16, -8, -4, -2]\n",
            "-86 [-86, -43, -128, -64, -32, -16, -8, -4, -2]\n",
            "-87 [-87, -260, -130, -65, -194, -97, -290, -145, -434, -217, -650, -325, -974, -487, -1460, -730, -365, -1094, -547, -1640, -820, -410, -205, -614, -307, -920, -460, -230, -115, -344, -172, -86, -43, -128, -64, -32, -16, -8, -4, -2]\n",
            "-88 [-88, -44, -22, -11, -32, -16, -8, -4, -2]\n",
            "-95 [-95, -284, -142, -71, -212, -106, -53, -158, -79, -236, -118, -59, -176, -88, -44, -22, -11, -32, -16, -8, -4, -2]\n",
            "-96 [-96, -48, -24, -12, -6, -3, -8, -4, -2]\n",
            "-97 [-97, -290, -145, -434, -217, -650, -325, -974, -487, -1460, -730, -365, -1094, -547, -1640, -820, -410, -205, -614, -307, -920, -460, -230, -115, -344, -172, -86, -43, -128, -64, -32, -16, -8, -4, -2]\n",
            "[-5, -7, -14, -10, -14, -14, -17, -14, -14, -20, -68, -68, -25, -14, -20, -14, -68, -122, -34, -14, -14, -37, -14, -20, -41, -68, -50, -68, -14, -122, -50, -14, -14, -20, -55, -14, -61, -68, -14, -122, -50, -68, -14, -14, -122, -74, -14, -14, -20, -14, -82, -68, -68, -14, -50, -91, -68, -14, -14, -122, -74]\n"
          ],
          "name": "stdout"
        }
      ]
    },
    {
      "cell_type": "markdown",
      "metadata": {
        "id": "mguLvJqyyjZA"
      },
      "source": [
        "We notice that the prime negative numbers and their multiples seem to have this infinte loop compared to even negative numbers who have the \"cycle\" of -4,-2,-1 excluding 1 and 2."
      ]
    },
    {
      "cell_type": "markdown",
      "metadata": {
        "id": "BnhnHcXztnEs"
      },
      "source": [
        "Starting with a negative integer n doesn't get the same outcome if we were to start with a positive integer n, but it does tell us that some negative numbers reach -1 with a similar \"cycle\". Even with some similairties we are unable to fully give a proof to further this conjecture. "
      ]
    },
    {
      "cell_type": "markdown",
      "metadata": {
        "id": "rX2zYdp93LaQ"
      },
      "source": [
        "## 3n-1"
      ]
    },
    {
      "cell_type": "markdown",
      "metadata": {
        "id": "hkK06M5C3Q9f"
      },
      "source": [
        "What happens if the conjecture started with a negative integer n and instead of 3n+1 it was 3n-1 to replace odd integer? There will still be negative numbers as outputs without a doubt, but using the information from above we decided to input negative prime numbers and their multiple to see what the outcome will give us. "
      ]
    },
    {
      "cell_type": "code",
      "metadata": {
        "colab": {
          "base_uri": "https://localhost:8080/"
        },
        "id": "kbuVb30E4meC",
        "outputId": "c656009c-0589-404d-9f75-cafc73ea8439"
      },
      "source": [
        "n= m\n",
        "while n != 0: \n",
        "  n = int(input(\"Enter a number, enter 0 to exit:\"))\n",
        "  values = []\n",
        "     \n",
        "  if n ==0:\n",
        "    break \n",
        "    \n",
        "  while abs(n) != 1:\n",
        "    print(n)\n",
        "      \n",
        "    if n in values:\n",
        "      print('infinite')\n",
        "      break\n",
        "    values.append(n)\n",
        "\n",
        "    if n % 2 == 0:\n",
        "      n //= 2\n",
        "    else: \n",
        "        n = (3 * n - 1) #if n is negative, then +1 should be minus -1 otherwise infinite loop\n",
        "    print (values)\n",
        "\n",
        "print (n)"
      ],
      "execution_count": 75,
      "outputs": [
        {
          "output_type": "stream",
          "text": [
            "Enter a number, enter 0 to exit:-5\n",
            "-5\n",
            "[-5]\n",
            "-16\n",
            "[-5, -16]\n",
            "-8\n",
            "[-5, -16, -8]\n",
            "-4\n",
            "[-5, -16, -8, -4]\n",
            "-2\n",
            "[-5, -16, -8, -4, -2]\n",
            "Enter a number, enter 0 to exit:-10\n",
            "-10\n",
            "[-10]\n",
            "-5\n",
            "[-10, -5]\n",
            "-16\n",
            "[-10, -5, -16]\n",
            "-8\n",
            "[-10, -5, -16, -8]\n",
            "-4\n",
            "[-10, -5, -16, -8, -4]\n",
            "-2\n",
            "[-10, -5, -16, -8, -4, -2]\n",
            "Enter a number, enter 0 to exit:-15\n",
            "-15\n",
            "[-15]\n",
            "-46\n",
            "[-15, -46]\n",
            "-23\n",
            "[-15, -46, -23]\n",
            "-70\n",
            "[-15, -46, -23, -70]\n",
            "-35\n",
            "[-15, -46, -23, -70, -35]\n",
            "-106\n",
            "[-15, -46, -23, -70, -35, -106]\n",
            "-53\n",
            "[-15, -46, -23, -70, -35, -106, -53]\n",
            "-160\n",
            "[-15, -46, -23, -70, -35, -106, -53, -160]\n",
            "-80\n",
            "[-15, -46, -23, -70, -35, -106, -53, -160, -80]\n",
            "-40\n",
            "[-15, -46, -23, -70, -35, -106, -53, -160, -80, -40]\n",
            "-20\n",
            "[-15, -46, -23, -70, -35, -106, -53, -160, -80, -40, -20]\n",
            "-10\n",
            "[-15, -46, -23, -70, -35, -106, -53, -160, -80, -40, -20, -10]\n",
            "-5\n",
            "[-15, -46, -23, -70, -35, -106, -53, -160, -80, -40, -20, -10, -5]\n",
            "-16\n",
            "[-15, -46, -23, -70, -35, -106, -53, -160, -80, -40, -20, -10, -5, -16]\n",
            "-8\n",
            "[-15, -46, -23, -70, -35, -106, -53, -160, -80, -40, -20, -10, -5, -16, -8]\n",
            "-4\n",
            "[-15, -46, -23, -70, -35, -106, -53, -160, -80, -40, -20, -10, -5, -16, -8, -4]\n",
            "-2\n",
            "[-15, -46, -23, -70, -35, -106, -53, -160, -80, -40, -20, -10, -5, -16, -8, -4, -2]\n",
            "Enter a number, enter 0 to exit:0\n",
            "0\n"
          ],
          "name": "stdout"
        }
      ]
    },
    {
      "cell_type": "markdown",
      "metadata": {
        "id": "FEHP4V7Q7DNA"
      },
      "source": [
        "Shown above is the prime number -5 with their multiple of -10 and -20. As we can see these multiples have a differnt output when the odd integer is replaced with 3n-1. Furthermore, there is no infinite loop when prime numbers are inputted on the contrary the \"cycle\" -4,-2,-1 ( reaching -1) is present. "
      ]
    }
  ]
}