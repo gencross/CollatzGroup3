{
  "nbformat": 4,
  "nbformat_minor": 0,
  "metadata": {
    "colab": {
      "name": "Godinez,Tatiana-New Exploration#1.ipynb",
      "provenance": [],
      "collapsed_sections": [],
      "authorship_tag": "ABX9TyMU4DYZBqPV+/u+eljd8Ge8",
      "include_colab_link": true
    },
    "kernelspec": {
      "name": "python3",
      "display_name": "Python 3"
    }
  },
  "cells": [
    {
      "cell_type": "markdown",
      "metadata": {
        "id": "view-in-github",
        "colab_type": "text"
      },
      "source": [
        "<a href=\"https://colab.research.google.com/github/gencross/CollatzGroup3/blob/main/Godinez%2CTatiana_New_Exploration_1.ipynb\" target=\"_parent\"><img src=\"https://colab.research.google.com/assets/colab-badge.svg\" alt=\"Open In Colab\"/></a>"
      ]
    },
    {
      "cell_type": "markdown",
      "metadata": {
        "id": "CU3g43L_xrY2"
      },
      "source": [
        "#Exploration"
      ]
    },
    {
      "cell_type": "markdown",
      "metadata": {
        "id": "HGTIgbXwx4KH"
      },
      "source": [
        "Begin with a positive integer n.  If it is even, divide it by two.  If it is odd,replace  it  by  3n+ 1.   Then  repeat.   This  process  leads  to  fascinating  upsand downs, that mathematicians struggle to understand.  For example, if westart with 5, then the next number will be 3·5 + 1 = 16.  The next numberwill be 8, then 4, then 2, then 1.  The next number will be 3·1 + 1 = 4. Then 2.  Then 1.  In this way, the starting number 5 yields the sequence5,16,8,4,2,1,4,2,1,4,2,1,....It  is conjectured  (“the Collatz  conjecture”)  that  if  you start  with anypositive integern, the resulting sequence will eventually reach the “cycle”4,2,1,4,2,1.  But nobody can prove it! "
      ]
    },
    {
      "cell_type": "markdown",
      "metadata": {
        "id": "754MOIQXydwJ"
      },
      "source": [
        "#Exploring input Negative"
      ]
    },
    {
      "cell_type": "markdown",
      "metadata": {
        "id": "bPnDFos51jJq"
      },
      "source": [
        "In the original conjecture, it states if you start with any positive integer n, then the resulting sequence will eventually reach the \"cycle\" 4,2,1. Every postive number that we've tested has reached 1 i.e the \"cycle\" mentioned earlier. However what if the starting integer n is a negative number? We might think that it will surely reach a similar \"cycle\" that would look like -4,-2,-1. However, below is a function which verifies the conjecture and when inputted a negative number in the function the output varied. The negative integers inputted either gave a sequence that reached a \"cycle\" -4,-2,-1 similar to 4,2,1, (the postive conjecture \"cycle\") or gave an infinite loop. For example, inputting -16, we get -16,-8,-4,-2,-1 and for -5 we are given the infinite loop of -5,-14, -7,-20, -10.\n",
        "\n"
      ]
    },
    {
      "cell_type": "code",
      "metadata": {
        "id": "WxK7HAgb01p8"
      },
      "source": [
        "def collatz_verbose(n):\n",
        "  '''\n",
        "  Prints the orbit of n\n",
        "  '''\n",
        "  while abs(n) != 1: \n",
        "    print(n)\n",
        "    if n % 2 == 0: \n",
        "      n //= 2\n",
        "    else: \n",
        "      n = (3 * n + 1)\n",
        "  return"
      ],
      "execution_count": 47,
      "outputs": []
    },
    {
      "cell_type": "code",
      "metadata": {
        "colab": {
          "base_uri": "https://localhost:8080/"
        },
        "id": "AbmWi-V0Syn_",
        "outputId": "bb308451-ac05-414b-8a20-e0c504d0d55c"
      },
      "source": [
        "collatz_verbose(-16)"
      ],
      "execution_count": 49,
      "outputs": [
        {
          "output_type": "stream",
          "text": [
            "-16\n",
            "-8\n",
            "-4\n",
            "-2\n"
          ],
          "name": "stdout"
        }
      ]
    },
    {
      "cell_type": "code",
      "metadata": {
        "id": "3HA1QBf0XH9N"
      },
      "source": [
        "collatz_verbose( -5) # this will go on forever"
      ],
      "execution_count": null,
      "outputs": []
    },
    {
      "cell_type": "markdown",
      "metadata": {
        "id": "HihfsIbV0MUb"
      },
      "source": [
        "**Below**:   changed it were if the value reaches -1 then it breaks the loop and prints the value (whatever the sequence that that integer produces). However, if the negative integer does not reach this \"cycle\" and produces an infinite loop then it will print the numbers in the loop as well as mention it is infinte. 'enter a number, enter 0 to exist:' helps stop the "
      ]
    },
    {
      "cell_type": "code",
      "metadata": {
        "id": "H7rXIRPOVS9C",
        "colab": {
          "base_uri": "https://localhost:8080/"
        },
        "outputId": "e2c12c58-9712-40ab-d8fb-32bbd9e6da96"
      },
      "source": [
        "n= m\n",
        "while n != 0: \n",
        "  n = int(input(\"Enter a number, enter 0 to exit:\"))\n",
        "  values = []\n",
        "     \n",
        "  if n ==0:\n",
        "    break \n",
        "    \n",
        "  while abs(n) != 1:\n",
        "    print(n)\n",
        "      \n",
        "    if n in values:\n",
        "      print('infinite')\n",
        "      break\n",
        "    values.append(n)\n",
        "\n",
        "    if n % 2 == 0:\n",
        "      n //= 2\n",
        "    else: \n",
        "        n = (3 * n + 1)\n",
        "    print (values)\n",
        "\n",
        "print (n)"
      ],
      "execution_count": 62,
      "outputs": [
        {
          "output_type": "stream",
          "text": [
            "Enter a number, enter 0 to exit:-8\n",
            "-8\n",
            "[-8]\n",
            "-4\n",
            "[-8, -4]\n",
            "-2\n",
            "[-8, -4, -2]\n",
            "Enter a number, enter 0 to exit:0\n",
            "0\n"
          ],
          "name": "stdout"
        }
      ]
    },
    {
      "cell_type": "markdown",
      "metadata": {
        "id": "R9F8Ni8FdthW"
      },
      "source": [
        "**Below:** We were unable to determine which negative number would produce this infinite sequence versus those that would reach -1, that is why below we have a list that demonstrates the negative numbers between -1 to -100. Some have an infinte loop which hold this \"cycle\" similar to the postive integers of 4,2,1 and in this case it reaches -1."
      ]
    },
    {
      "cell_type": "code",
      "metadata": {
        "colab": {
          "base_uri": "https://localhost:8080/"
        },
        "id": "ZTtQ42wyr_LG",
        "outputId": "0692701f-956e-4f51-f50e-dddc4ada2b9e"
      },
      "source": [
        "inf=[]\n",
        "for m in range(-1,-100,-1):\n",
        "    n = m\n",
        "    printit= True\n",
        "    values =[]\n",
        "\n",
        "    if n==0:\n",
        "      break\n",
        "    \n",
        "    while abs(n) !=1:\n",
        "\n",
        "      if n in values:\n",
        "        printit = False \n",
        "        inf.append(n)\n",
        "        break\n",
        "      values.append(n)\n",
        "\n",
        "      if n % 2 ==0:\n",
        "        n //= 2\n",
        "      else:\n",
        "        n=(3 * n +1)\n",
        "    if printit:\n",
        "      print(m,values)\n",
        "print(inf)"
      ],
      "execution_count": 28,
      "outputs": [
        {
          "output_type": "stream",
          "text": [
            "-1 []\n",
            "-2 [-2]\n",
            "-3 [-3, -8, -4, -2]\n",
            "-4 [-4, -2]\n",
            "-6 [-6, -3, -8, -4, -2]\n",
            "-8 [-8, -4, -2]\n",
            "-11 [-11, -32, -16, -8, -4, -2]\n",
            "-12 [-12, -6, -3, -8, -4, -2]\n",
            "-15 [-15, -44, -22, -11, -32, -16, -8, -4, -2]\n",
            "-16 [-16, -8, -4, -2]\n",
            "-22 [-22, -11, -32, -16, -8, -4, -2]\n",
            "-24 [-24, -12, -6, -3, -8, -4, -2]\n",
            "-29 [-29, -86, -43, -128, -64, -32, -16, -8, -4, -2]\n",
            "-30 [-30, -15, -44, -22, -11, -32, -16, -8, -4, -2]\n",
            "-32 [-32, -16, -8, -4, -2]\n",
            "-39 [-39, -116, -58, -29, -86, -43, -128, -64, -32, -16, -8, -4, -2]\n",
            "-43 [-43, -128, -64, -32, -16, -8, -4, -2]\n",
            "-44 [-44, -22, -11, -32, -16, -8, -4, -2]\n",
            "-48 [-48, -24, -12, -6, -3, -8, -4, -2]\n",
            "-53 [-53, -158, -79, -236, -118, -59, -176, -88, -44, -22, -11, -32, -16, -8, -4, -2]\n",
            "-57 [-57, -170, -85, -254, -127, -380, -190, -95, -284, -142, -71, -212, -106, -53, -158, -79, -236, -118, -59, -176, -88, -44, -22, -11, -32, -16, -8, -4, -2]\n",
            "-58 [-58, -29, -86, -43, -128, -64, -32, -16, -8, -4, -2]\n",
            "-59 [-59, -176, -88, -44, -22, -11, -32, -16, -8, -4, -2]\n",
            "-60 [-60, -30, -15, -44, -22, -11, -32, -16, -8, -4, -2]\n",
            "-64 [-64, -32, -16, -8, -4, -2]\n",
            "-65 [-65, -194, -97, -290, -145, -434, -217, -650, -325, -974, -487, -1460, -730, -365, -1094, -547, -1640, -820, -410, -205, -614, -307, -920, -460, -230, -115, -344, -172, -86, -43, -128, -64, -32, -16, -8, -4, -2]\n",
            "-69 [-69, -206, -103, -308, -154, -77, -230, -115, -344, -172, -86, -43, -128, -64, -32, -16, -8, -4, -2]\n",
            "-71 [-71, -212, -106, -53, -158, -79, -236, -118, -59, -176, -88, -44, -22, -11, -32, -16, -8, -4, -2]\n",
            "-77 [-77, -230, -115, -344, -172, -86, -43, -128, -64, -32, -16, -8, -4, -2]\n",
            "-78 [-78, -39, -116, -58, -29, -86, -43, -128, -64, -32, -16, -8, -4, -2]\n",
            "-79 [-79, -236, -118, -59, -176, -88, -44, -22, -11, -32, -16, -8, -4, -2]\n",
            "-85 [-85, -254, -127, -380, -190, -95, -284, -142, -71, -212, -106, -53, -158, -79, -236, -118, -59, -176, -88, -44, -22, -11, -32, -16, -8, -4, -2]\n",
            "-86 [-86, -43, -128, -64, -32, -16, -8, -4, -2]\n",
            "-87 [-87, -260, -130, -65, -194, -97, -290, -145, -434, -217, -650, -325, -974, -487, -1460, -730, -365, -1094, -547, -1640, -820, -410, -205, -614, -307, -920, -460, -230, -115, -344, -172, -86, -43, -128, -64, -32, -16, -8, -4, -2]\n",
            "-88 [-88, -44, -22, -11, -32, -16, -8, -4, -2]\n",
            "-95 [-95, -284, -142, -71, -212, -106, -53, -158, -79, -236, -118, -59, -176, -88, -44, -22, -11, -32, -16, -8, -4, -2]\n",
            "-96 [-96, -48, -24, -12, -6, -3, -8, -4, -2]\n",
            "-97 [-97, -290, -145, -434, -217, -650, -325, -974, -487, -1460, -730, -365, -1094, -547, -1640, -820, -410, -205, -614, -307, -920, -460, -230, -115, -344, -172, -86, -43, -128, -64, -32, -16, -8, -4, -2]\n",
            "[-5, -7, -14, -10, -14, -14, -17, -14, -14, -20, -68, -68, -25, -14, -20, -14, -68, -122, -34, -14, -14, -37, -14, -20, -41, -68, -50, -68, -14, -122, -50, -14, -14, -20, -55, -14, -61, -68, -14, -122, -50, -68, -14, -14, -122, -74, -14, -14, -20, -14, -82, -68, -68, -14, -50, -91, -68, -14, -14, -122, -74]\n"
          ],
          "name": "stdout"
        }
      ]
    },
    {
      "cell_type": "markdown",
      "metadata": {
        "id": "mguLvJqyyjZA"
      },
      "source": [
        "We notice that the multiples of prime negative numbers and prime negative numbers seem to have an infinte loop compared to even negative numbers who have this \"cycle\" of -4,-2,-1 excluding 1 and 2."
      ]
    },
    {
      "cell_type": "markdown",
      "metadata": {
        "id": "BnhnHcXztnEs"
      },
      "source": [
        "Starting with a negative integer n doesn't get the same outcome if we were to start with a positive integer n, but it does tell us that some negative numbers reach -1 with a similar \"cycle\". Even with some similairties we are unable to fully give a proof to further this conjecture. "
      ]
    }
  ]
}