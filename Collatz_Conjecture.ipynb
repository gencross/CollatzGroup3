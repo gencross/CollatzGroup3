{
  "nbformat": 4,
  "nbformat_minor": 0,
  "metadata": {
    "colab": {
      "name": "Collatz_Conjecture.ipynb",
      "provenance": [],
      "collapsed_sections": [],
      "toc_visible": true,
      "include_colab_link": true
    },
    "kernelspec": {
      "name": "python3",
      "display_name": "Python 3"
    }
  },
  "cells": [
    {
      "cell_type": "markdown",
      "metadata": {
        "id": "view-in-github",
        "colab_type": "text"
      },
      "source": [
        "<a href=\"https://colab.research.google.com/github/gencross/CollatzGroup3/blob/main/Collatz_Conjecture.ipynb\" target=\"_parent\"><img src=\"https://colab.research.google.com/assets/colab-badge.svg\" alt=\"Open In Colab\"/></a>"
      ]
    },
    {
      "cell_type": "markdown",
      "metadata": {
        "id": "7UAVwz6Fn5JT"
      },
      "source": [
        "#Collatz Conjecture\n",
        "##Group 3\n",
        "###Edward Hayden, Miles Mitchell, Kevin Nguyen, Tatiana Godinez"
      ]
    },
    {
      "cell_type": "code",
      "metadata": {
        "id": "GhVbdvxjrhZR"
      },
      "source": [
        ""
      ],
      "execution_count": null,
      "outputs": []
    },
    {
      "cell_type": "markdown",
      "metadata": {
        "id": "VMef4lGh8_2B"
      },
      "source": [
        "# Introduction\r\n",
        "The 3n+1 problem is simple enough for an elementary schooler to grasp. Pick a number. If it's even, divide it by 2. If it's odd, multiply it by 3, then add 1. Then, repeat the process. If you reach 1, stop. For example, 5 -> 16 -> 8 -> 4 -> 2 -> 1. The Collatz conjecture states that every positive integer will reach 1 after only finitely many steps. This conjecture has yet to be proven or disproven. In this notebook, we will explore some of the questions and conundrums surrounding this problem."
      ]
    },
    {
      "cell_type": "markdown",
      "metadata": {
        "id": "_Mb_YH9Be9hn"
      },
      "source": [
        "#Formal Statement"
      ]
    },
    {
      "cell_type": "markdown",
      "metadata": {
        "id": "Un88vUCGf5Ri"
      },
      "source": [
        "We define the (restricted) Collatz Map as the map\n",
        " $f:\\mathbb{N} \\rightarrow \\mathbb{N}$"
      ]
    },
    {
      "cell_type": "markdown",
      "metadata": {
        "id": "RFfAvsHegbd5"
      },
      "source": [
        "where $f(n) := \\begin{cases} \n",
        "      \\frac{n}{2} & n = 2k , k \\in \\mathbb{N} \\\\\n",
        "      3n + 1 & n = 2k+1 , k \\in \\mathbb{N}\n",
        "   \\end{cases}\n",
        "$"
      ]
    },
    {
      "cell_type": "markdown",
      "metadata": {
        "id": "anzU-uq7h2i8"
      },
      "source": [
        "We define $f^3(n)$ as $f(f(f(n)))$ and seek $n \\in \\mathbb{N}$ such that $n = f^3(n)$\n",
        "\n"
      ]
    },
    {
      "cell_type": "markdown",
      "metadata": {
        "id": "LzA0kKwHii_-"
      },
      "source": [
        "For such an $n$, we define the elements of the $3-cycle$ containing $n$ as the set $\\{n,f(n),f^2(n)\\}$"
      ]
    },
    {
      "cell_type": "markdown",
      "metadata": {
        "id": "bcp6ii9JjgGA"
      },
      "source": [
        "####Conjecture 1:"
      ]
    },
    {
      "cell_type": "markdown",
      "metadata": {
        "id": "SWS5iidAjlUf"
      },
      "source": [
        "$\\{1,2,4\\}$ is the only $3-cycle$ that exists for the restricted Collatz map."
      ]
    },
    {
      "cell_type": "markdown",
      "metadata": {
        "id": "RnFen7x1j8mL"
      },
      "source": [
        "####Conjecture 2:"
      ]
    },
    {
      "cell_type": "markdown",
      "metadata": {
        "id": "u5AZgOwpkBde"
      },
      "source": [
        "The series $x_{n+1} = f(x_{n})$, where $f$ is the restricted Collatz Map, will eventually converge to our unique $3-cycle$ for any initial value $n_{0}$."
      ]
    },
    {
      "cell_type": "markdown",
      "metadata": {
        "id": "vFDMhXjs_Al8"
      },
      "source": [
        "# Verifying the Conjecture\r\n",
        "Below is a function that verifies the conjecture up to 10 million. We check every odd number from 3 to a 10 million minus 1. We don't check the even numbers for the following reason. Any even number can be written as 2k, where k is any integer. So after the first step of the 3n+1 process, 2k becomes k. If k is odd, we've already checked it, so no need to continue. If k is even, the half of k will either be odd or even, et cetera. Only checking odd numbers speeds up the process significantly. Furthermore, we don't check if a number goes all the way to 1, we only check if it becomes less than where it started. Since we check numbers sequentially, we've already checked all of the numbers less than the one that we're currently checking."
      ]
    },
    {
      "cell_type": "code",
      "metadata": {
        "id": "gMhM12voBCiW"
      },
      "source": [
        "def collatz_check(n): #check all numbers less than or equal to n\r\n",
        "  for i in range(3,n+1,2): #only check odd numbers\r\n",
        "    c = i # i will remain constant, c will change\r\n",
        "    while c >= i:\r\n",
        "      if c % 2 == 0:\r\n",
        "        c //= 2\r\n",
        "      if c % 2 == 1:\r\n",
        "        c = (3 * c + 1) // 2 # we can do two steps at once since 3c+1 is always even\r\n",
        "  print(\"Verified up to {}\".format(n))"
      ],
      "execution_count": 1,
      "outputs": []
    },
    {
      "cell_type": "code",
      "metadata": {
        "id": "XkVtsXtCBqvO",
        "colab": {
          "base_uri": "https://localhost:8080/"
        },
        "outputId": "f7d8ace7-c883-4467-f6dd-649046b83edc"
      },
      "source": [
        "collatz_check(10**7)"
      ],
      "execution_count": 2,
      "outputs": [
        {
          "output_type": "stream",
          "text": [
            "Verified up to 10000000\n"
          ],
          "name": "stdout"
        }
      ]
    },
    {
      "cell_type": "markdown",
      "metadata": {
        "id": "xEUg-Pk3Kib7"
      },
      "source": [
        "# Dropping Time\r\n",
        "The \"dropping time\", σ(n), of an integer n is defined as the number of 3n+1 iterations that n undergoes before it becomes less than where it started. For example, σ(5)=3, since 5 goes to 16 goes to 8 goes to 4, which is less than 5. Every number that we tested has a finite dropping time, since every number that we tested eventually reached 1. The dropping time is significant in testing new numbers if you're testing numbers sequentially. Once a number n drops below where it started, it will definitely reach 1 because all numbers less than n have already been shown to reach 1. Below, you can see the dropping time function that we created."
      ]
    },
    {
      "cell_type": "code",
      "metadata": {
        "id": "JFFVDOZUlikX"
      },
      "source": [
        "def sigma(n):\r\n",
        "  '''\r\n",
        "  Finds and returns the \"dropping time\" of n.\r\n",
        "  This is the number of 3n+1 loops that it takes\r\n",
        "  for n to become less than where it started.\r\n",
        "  '''\r\n",
        "  i = n # i will be the variable that changes, n will stay static\r\n",
        "  loops = 0 # track the dropping time here\r\n",
        "  while i >= n: # stop when i < n\r\n",
        "    if i % 2 == 0:\r\n",
        "      i //= 2\r\n",
        "      loops += 1\r\n",
        "    else:\r\n",
        "      i = (3 * i + 1) // 2\r\n",
        "      loops += 2 # We can combine 2 steps into one here since 3i+1 is always even\r\n",
        "  return loops"
      ],
      "execution_count": 3,
      "outputs": []
    },
    {
      "cell_type": "markdown",
      "metadata": {
        "id": "jgALgM-tNPSP"
      },
      "source": [
        "At first glance, σ(n) doesn't depend on the size of n. See below, the dropping time of prime numbers ranging from 1 to 10 digits."
      ]
    },
    {
      "cell_type": "code",
      "metadata": {
        "colab": {
          "base_uri": "https://localhost:8080/"
        },
        "id": "Rh8arCaTMi2e",
        "outputId": "0e90f3f9-6cf4-464d-f344-35c243196d79"
      },
      "source": [
        "[sigma(7),\r\n",
        "sigma(31),\r\n",
        "sigma(127),\r\n",
        "sigma(8191),\r\n",
        "sigma(97259),\r\n",
        "sigma(524287),\r\n",
        "sigma(9375739),\r\n",
        "sigma(86028121),\r\n",
        "sigma(633910099),\r\n",
        "sigma(2147483647)]"
      ],
      "execution_count": 4,
      "outputs": [
        {
          "output_type": "execute_result",
          "data": {
            "text/plain": [
              "[11, 91, 24, 70, 8, 91, 21, 3, 6, 187]"
            ]
          },
          "metadata": {
            "tags": []
          },
          "execution_count": 4
        }
      ]
    },
    {
      "cell_type": "markdown",
      "metadata": {
        "id": "O0K4bnJfNiep"
      },
      "source": [
        "The 10 digit number has the largest dropping time, but 31 is tied for second place. So, the following function was created to find which numbers have a bigger dropping time than any previous numbers."
      ]
    },
    {
      "cell_type": "code",
      "metadata": {
        "id": "4qYoHYk0TLad"
      },
      "source": [
        "def best_sigmas(n):\r\n",
        "  '''\r\n",
        "  Creates and returns a list all positive ints\r\n",
        "  less than or equal to n whose dropping time\r\n",
        "  is greater than the dropping times of all\r\n",
        "  smaller positive ints. Also returns the dropping\r\n",
        "  times. Output format is (n,sigma(n)).\r\n",
        "  '''\r\n",
        "  int_list = [(2,1)] #σ(1) is undefined, so we start checking at 2\r\n",
        "  for i in range(3,n+1,2): # we only check odd numbers since σ(2n) = 1 for any n\r\n",
        "    sig_i = sigma(i) # save this as a variable so we don't have to run it twice\r\n",
        "    if sig_i > int_list[-1][1]:\r\n",
        "      int_list.append((i,sig_i))\r\n",
        "  return int_list"
      ],
      "execution_count": 5,
      "outputs": []
    },
    {
      "cell_type": "code",
      "metadata": {
        "colab": {
          "base_uri": "https://localhost:8080/"
        },
        "id": "WR_Fv3WjbGlp",
        "outputId": "3a3556ed-4d4e-48ba-811e-6912006a696a"
      },
      "source": [
        "best_sigmas(10**7)"
      ],
      "execution_count": 6,
      "outputs": [
        {
          "output_type": "execute_result",
          "data": {
            "text/plain": [
              "[(2, 1),\n",
              " (3, 6),\n",
              " (7, 11),\n",
              " (27, 96),\n",
              " (703, 132),\n",
              " (10087, 171),\n",
              " (35655, 220),\n",
              " (270271, 267),\n",
              " (362343, 269),\n",
              " (381727, 282),\n",
              " (626331, 287),\n",
              " (1027431, 298),\n",
              " (1126015, 365),\n",
              " (8088063, 401)]"
            ]
          },
          "metadata": {
            "tags": []
          },
          "execution_count": 6
        }
      ]
    },
    {
      "cell_type": "markdown",
      "metadata": {
        "id": "vm3Ux1N5PHPV"
      },
      "source": [
        "The output is formatted as `(n,σ(n))`. With this list, we can see that σ(n) only increases 13 times when n goes from 2 to 10 million. A logical next step would be finding what the most common dropping time is. A sensible guess is 1, since all even numbers have a dropping time of 1. Let's check."
      ]
    },
    {
      "cell_type": "code",
      "metadata": {
        "colab": {
          "base_uri": "https://localhost:8080/"
        },
        "id": "-z-9J3t4QfE7",
        "outputId": "27015cc2-19e5-4077-fd71-2115df4eac29"
      },
      "source": [
        "from statistics import mean\r\n",
        "from statistics import mode\r\n",
        "sigma_list = []\r\n",
        "for i in range(2,10**7): # we check up 10**7 because checking higher takes too long\r\n",
        "  sigma_list.append(sigma(i))\r\n",
        "print(mean(sigma_list), \"is the mean.\")\r\n",
        "print(mode(sigma_list), \"is the mode.\")"
      ],
      "execution_count": 7,
      "outputs": [
        {
          "output_type": "stream",
          "text": [
            "5.235936047187209 is the mean.\n",
            "1 is the mode.\n"
          ],
          "name": "stdout"
        }
      ]
    },
    {
      "cell_type": "markdown",
      "metadata": {
        "id": "BTNfOCvsTFyq"
      },
      "source": [
        "As predicted, 1 is the mode. But, the mean is 5.236, a number that seems quite random. What happens when we only consider odd numbers?"
      ]
    },
    {
      "cell_type": "code",
      "metadata": {
        "colab": {
          "base_uri": "https://localhost:8080/"
        },
        "id": "_o1dIDB5UHfV",
        "outputId": "c5f9aff9-c0c1-4375-e229-ae58118dd61e"
      },
      "source": [
        "from statistics import mean\r\n",
        "from statistics import mode\r\n",
        "sigma_list = []\r\n",
        "for i in range(3,10**7,2): # only odd numbers this time\r\n",
        "  sigma_list.append(sigma(i))\r\n",
        "print(mean(sigma_list), \"is the mean.\")\r\n",
        "print(mode(sigma_list), \"is the mode.\")"
      ],
      "execution_count": 8,
      "outputs": [
        {
          "output_type": "stream",
          "text": [
            "9.471872094374419 is the mean.\n",
            "3 is the mode.\n"
          ],
          "name": "stdout"
        }
      ]
    },
    {
      "cell_type": "markdown",
      "metadata": {
        "id": "9iyytfmvVXHU"
      },
      "source": [
        "When we only look at odd numbers, the mode is 3. The mean is about twice as big, which makes sense. Odd numbers are of the form 2n+1, so what happens if we look at numbers of the form 4n+1?"
      ]
    },
    {
      "cell_type": "code",
      "metadata": {
        "colab": {
          "base_uri": "https://localhost:8080/"
        },
        "id": "OxOthT9bWARb",
        "outputId": "c4792e2e-7441-4280-d0a7-89c4065bbc49"
      },
      "source": [
        "from statistics import mean\r\n",
        "from statistics import mode\r\n",
        "sigma_list = []\r\n",
        "for i in range(5,10**7,4): # we start with 4 because σ(1) is undefined\r\n",
        "  sigma_list.append(sigma(i))\r\n",
        "print(mean(sigma_list), \"is the mean.\")\r\n",
        "print(mode(sigma_list), \"is the mode.\")"
      ],
      "execution_count": 9,
      "outputs": [
        {
          "output_type": "stream",
          "text": [
            "3 is the mean.\n",
            "3 is the mode.\n"
          ],
          "name": "stdout"
        }
      ]
    },
    {
      "cell_type": "markdown",
      "metadata": {
        "id": "xkKjF6R_WWzo"
      },
      "source": [
        "This time, 3 is the mean as well! What does this list look like?"
      ]
    },
    {
      "cell_type": "code",
      "metadata": {
        "colab": {
          "base_uri": "https://localhost:8080/"
        },
        "id": "ZoSGyT5OWgfs",
        "outputId": "5d0990b5-7ca2-4c1c-9a3f-dfbfd4872a9d"
      },
      "source": [
        "print(sigma_list[10**5:10**5+200])"
      ],
      "execution_count": 10,
      "outputs": [
        {
          "output_type": "stream",
          "text": [
            "[3, 3, 3, 3, 3, 3, 3, 3, 3, 3, 3, 3, 3, 3, 3, 3, 3, 3, 3, 3, 3, 3, 3, 3, 3, 3, 3, 3, 3, 3, 3, 3, 3, 3, 3, 3, 3, 3, 3, 3, 3, 3, 3, 3, 3, 3, 3, 3, 3, 3, 3, 3, 3, 3, 3, 3, 3, 3, 3, 3, 3, 3, 3, 3, 3, 3, 3, 3, 3, 3, 3, 3, 3, 3, 3, 3, 3, 3, 3, 3, 3, 3, 3, 3, 3, 3, 3, 3, 3, 3, 3, 3, 3, 3, 3, 3, 3, 3, 3, 3, 3, 3, 3, 3, 3, 3, 3, 3, 3, 3, 3, 3, 3, 3, 3, 3, 3, 3, 3, 3, 3, 3, 3, 3, 3, 3, 3, 3, 3, 3, 3, 3, 3, 3, 3, 3, 3, 3, 3, 3, 3, 3, 3, 3, 3, 3, 3, 3, 3, 3, 3, 3, 3, 3, 3, 3, 3, 3, 3, 3, 3, 3, 3, 3, 3, 3, 3, 3, 3, 3, 3, 3, 3, 3, 3, 3, 3, 3, 3, 3, 3, 3, 3, 3, 3, 3, 3, 3, 3, 3, 3, 3, 3, 3, 3, 3, 3, 3, 3, 3]\n"
          ],
          "name": "stdout"
        }
      ]
    },
    {
      "cell_type": "markdown",
      "metadata": {
        "id": "TP7vaxWUWvSa"
      },
      "source": [
        "It's too big to show here because of the length of the list, but it's all 3s. So, it looks like σ(4n+1) = 3 for all n! In fact, this can be proven.<br />\r\n",
        "`4n+1 is odd, so do 3(4n+1)+1`<br />\r\n",
        "`12n+4 is even, so do (12n+4)/2`<br />\r\n",
        "`6n+2 is even, so do (6n+2)/2`<br />\r\n",
        "`3n+1 < 4n+1 so we're done.`<br />\r\n",
        "This shows that any number of the form 4n+1 has a dropping time of 3! Are there other formulas that can give us numbers with a fixed dropping time? To answer this question, here is a function which will calculate σ(n) for all n=ai+b, where i is a positive integer. We stop the calculations at n=10**6."
      ]
    },
    {
      "cell_type": "code",
      "metadata": {
        "id": "JaJ4SXimnDob"
      },
      "source": [
        "def sigma_b_mod_a(a,b):\r\n",
        "  '''\r\n",
        "  Returns a list of all of the sigmas\r\n",
        "  for integers congruent to b mod a\r\n",
        "  up to 10**6\r\n",
        "  '''\r\n",
        "  sigma_list = []\r\n",
        "  for i in range(b,10**6,a):\r\n",
        "    sigma_list.append(sigma(i))\r\n",
        "  return sigma_list"
      ],
      "execution_count": 11,
      "outputs": []
    },
    {
      "cell_type": "markdown",
      "metadata": {
        "id": "KF7--qV3bn5h"
      },
      "source": [
        "We need a way to parse this data. The last function returns a list with too many elements to analyze by hand, so we'll look at its mean instead. The below function will help us. "
      ]
    },
    {
      "cell_type": "code",
      "metadata": {
        "id": "faEOOkSvoQWV"
      },
      "source": [
        "from statistics import mean\r\n",
        "def average_sigma(a):\r\n",
        "  '''\r\n",
        "  Returns a list of tuples. Call the first entry i. Then the\r\n",
        "  second entry is the mean of all σ(an+i) where an+i is \r\n",
        "  less than 10**6.\r\n",
        "  '''\r\n",
        "  average_sigma_list = []\r\n",
        "  for i in range(1,301):\r\n",
        "    k = mean(sigma_b_mod_a(i,a))\r\n",
        "    average_sigma_list.append((i,k))\r\n",
        "  return average_sigma_list"
      ],
      "execution_count": 12,
      "outputs": []
    },
    {
      "cell_type": "code",
      "metadata": {
        "id": "E7XrdAWNpQ5k",
        "colab": {
          "base_uri": "https://localhost:8080/"
        },
        "outputId": "de772561-be19-40ec-f893-2f0a24006e83"
      },
      "source": [
        "average_sigma(3)[:50]"
      ],
      "execution_count": 13,
      "outputs": [
        {
          "output_type": "execute_result",
          "data": {
            "text/plain": [
              "[(1, 5.226273678821037),\n",
              " (2, 9.45253890507781),\n",
              " (3, 5.2280362280362285),\n",
              " (4, 15.905052),\n",
              " (5, 5.223985),\n",
              " (6, 9.456047087905825),\n",
              " (7, 5.221417221417221),\n",
              " (8, 10.428632),\n",
              " (9, 5.2475002475002475),\n",
              " (10, 9.44797),\n",
              " (11, 5.24995324995325),\n",
              " (12, 15.91201670386637),\n",
              " (13, 5.215709215709215),\n",
              " (14, 9.44277534334794),\n",
              " (15, 5.217978910105449),\n",
              " (16, 6),\n",
              " (17, 5.2078233374133),\n",
              " (18, 9.494924040607675),\n",
              " (19, 5.208922328621371),\n",
              " (20, 15.89594),\n",
              " (21, 5.208992208992209),\n",
              " (22, 9.499813001869981),\n",
              " (23, 5.221808229260103),\n",
              " (24, 10.436340509275926),\n",
              " (25, 5.228625),\n",
              " (26, 9.431308824294108),\n",
              " (27, 5.272943272943273),\n",
              " (28, 15.885370292594148),\n",
              " (29, 5.23571035002755),\n",
              " (30, 9.435831283374332),\n",
              " (31, 5.237181474362949),\n",
              " (32, 6),\n",
              " (33, 5.276408276408277),\n",
              " (34, 9.4156466748266),\n",
              " (35, 5.206810863782724),\n",
              " (36, 15.98984808121535),\n",
              " (37, 5.192844192844193),\n",
              " (38, 9.417844657242743),\n",
              " (39, 5.209118209118209),\n",
              " (40, 10.45516),\n",
              " (41, 5.221885121561232),\n",
              " (42, 9.417807643847123),\n",
              " (43, 5.236326109391125),\n",
              " (44, 15.999340021119323),\n",
              " (45, 5.224632137875174),\n",
              " (46, 9.443422263109476),\n",
              " (47, 5.2359355172251725),\n",
              " (48, 6),\n",
              " (49, 5.230927531971189),\n",
              " (50, 9.45725)]"
            ]
          },
          "metadata": {
            "tags": []
          },
          "execution_count": 13
        }
      ]
    },
    {
      "cell_type": "markdown",
      "metadata": {
        "id": "f7Xzb9H6fV03"
      },
      "source": [
        "It looks like σ(16n+3) = 6! This can be proven in the same way that we proved that σ(4n+1) = 3.<br />\r\n",
        "`16n+3 is odd, so do 3(16n+3)+1`<br />\r\n",
        "`48n+10 is even, so do (48n+10)/2`<br />\r\n",
        "`24n+5 is odd, so do 3(24n+5)+1`<br />\r\n",
        "`72n+16 is even, so do (72n+16)/2`<br />\r\n",
        "`36n+8 is even, so do (36n+8)/2`<br />\r\n",
        "`18n+4 is even, so do (18n+4)/2`<br />\r\n",
        "`9n+2 < 16n+3 so we're done.`<br />\r\n",
        "Here are all of the numbers that we found with a fixed dropping time:<br />\r\n",
        "σ(4n + 1) = 3<br />\r\n",
        "σ(16n + 3) = 6<br />\r\n",
        "σ(32n + 11) = 8<br />\r\n",
        "σ(32n + 23) = 8<br />\r\n",
        "σ(128n + 15) = 11<br />\r\n",
        "They can all be proven in the same manner as shown for the first two. The calculations are ommitted because they are tedious and uninteresting, but [here is a photo](https://raw.githubusercontent.com/gencross/CollatzGroup3/main/IMG_20210208_135505416.jpg) for those curious. At first, it looked like a pattern might be forming. The first four entries are all of the form 2**k + prime, but then we have 128n + 15, and 15 is composite. After running average_sigma(a) for values of a up to 50, we didn't find any other a and b such that σ(an+b) is fixed. "
      ]
    },
    {
      "cell_type": "markdown",
      "metadata": {
        "id": "aNZavTons_U0"
      },
      "source": [
        "To finish off this section, here are some very cool graphs that show how σ(n) changes with respect to n."
      ]
    },
    {
      "cell_type": "code",
      "metadata": {
        "id": "9dUtMlMdn43p"
      },
      "source": [
        "import matplotlib.pyplot as plt\r\n",
        "def line_plot(l):\r\n",
        "  '''\r\n",
        "  make a line plot from the entries of l\r\n",
        "  '''\r\n",
        "  index = []\r\n",
        "  data = []\r\n",
        "  for i in l:\r\n",
        "    index.append(i[0])\r\n",
        "    data.append(i[1])\r\n",
        "  plt.plot(index,data)\r\n",
        "  plt.xlabel(\"a\")\r\n",
        "  plt.ylim(bottom=0)\r\n"
      ],
      "execution_count": 14,
      "outputs": []
    },
    {
      "cell_type": "markdown",
      "metadata": {
        "id": "w6npr9jHy1N7"
      },
      "source": [
        "In the following cells, we fix b, then plot the mean of σ(an+b) for all an+b less than 10**6. This shows how σ can be almost sinusoidal for some choices of b."
      ]
    },
    {
      "cell_type": "code",
      "metadata": {
        "id": "Al6VoqdzpA8U",
        "colab": {
          "base_uri": "https://localhost:8080/",
          "height": 312
        },
        "outputId": "1c71135a-3e3f-470e-ea74-f1f6250ddeab"
      },
      "source": [
        "line_plot(average_sigma(3)[:100])\r\n",
        "plt.title(\"b = 3\")\r\n",
        "plt.ylabel(\"mean(sigma(an+3))\")"
      ],
      "execution_count": 15,
      "outputs": [
        {
          "output_type": "execute_result",
          "data": {
            "text/plain": [
              "Text(0, 0.5, 'mean(sigma(an+3))')"
            ]
          },
          "metadata": {
            "tags": []
          },
          "execution_count": 15
        },
        {
          "output_type": "display_data",
          "data": {
            "image/png": "[encoded data removed]",
            "text/plain": [
              "<Figure size 432x288 with 1 Axes>"
            ]
          },
          "metadata": {
            "tags": [],
            "needs_background": "light"
          }
        }
      ]
    },
    {
      "cell_type": "code",
      "metadata": {
        "colab": {
          "base_uri": "https://localhost:8080/",
          "height": 312
        },
        "id": "VH18_BBttWL9",
        "outputId": "f061af00-4d4e-4f49-f9b4-1c4b248dc424"
      },
      "source": [
        "line_plot(average_sigma(11)[:100])\r\n",
        "plt.title(\"b = 11\")\r\n",
        "plt.ylabel(\"mean(sigma(an+11))\")"
      ],
      "execution_count": 16,
      "outputs": [
        {
          "output_type": "execute_result",
          "data": {
            "text/plain": [
              "Text(0, 0.5, 'mean(sigma(an+11))')"
            ]
          },
          "metadata": {
            "tags": []
          },
          "execution_count": 16
        },
        {
          "output_type": "display_data",
          "data": {
            "image/png": "[encoded data removed]",
            "text/plain": [
              "<Figure size 432x288 with 1 Axes>"
            ]
          },
          "metadata": {
            "tags": [],
            "needs_background": "light"
          }
        }
      ]
    },
    {
      "cell_type": "code",
      "metadata": {
        "id": "yGyaQqzatnYe"
      },
      "source": [
        "line_plot(average_sigma(15)[:100])\r\n",
        "plt.title(\"b = 15\")\r\n",
        "plt.ylabel(\"mean(sigma(an+15))\")"
      ],
      "execution_count": null,
      "outputs": []
    },
    {
      "cell_type": "code",
      "metadata": {
        "id": "q2EoKeDct-mu"
      },
      "source": [
        "line_plot(average_sigma(23)[:100])\r\n",
        "plt.title(\"b = 23\")\r\n",
        "plt.ylabel(\"mean(sigma(an+23))\")"
      ],
      "execution_count": null,
      "outputs": []
    },
    {
      "cell_type": "markdown",
      "metadata": {
        "id": "Si4TpdHQ2Y-Z"
      },
      "source": [
        "However, not all choices in b result in a graph with such a nice periodicity."
      ]
    },
    {
      "cell_type": "code",
      "metadata": {
        "id": "vZOP5qLGt_2N"
      },
      "source": [
        "line_plot(average_sigma(17)[:100])\r\n",
        "plt.title(\"b = 17\")\r\n",
        "plt.ylabel(\"mean(sigma(an+17))\")"
      ],
      "execution_count": null,
      "outputs": []
    },
    {
      "cell_type": "code",
      "metadata": {
        "id": "4UrNyMOKuYdN"
      },
      "source": [
        "line_plot(average_sigma(33)[:100])\r\n",
        "plt.title(\"b = 33\")\r\n",
        "plt.ylabel(\"mean(sigma(an+33))\")"
      ],
      "execution_count": null,
      "outputs": []
    },
    {
      "cell_type": "markdown",
      "metadata": {
        "id": "kvkrnIDJUDGd"
      },
      "source": [
        "It's important to note that the peaks and valleys are not all the same, they vary slightly."
      ]
    },
    {
      "cell_type": "markdown",
      "metadata": {
        "id": "UAqqhPdf5pM7"
      },
      "source": [
        "Finding a pattern that shows that every number must have a finite dropping time is one way that the Collatz conjecture could be proven. But, after some exploration, we were unable to find one."
      ]
    },
    {
      "cell_type": "markdown",
      "metadata": {
        "id": "754MOIQXydwJ"
      },
      "source": [
        "#Exploring Negative Integers (n)"
      ]
    },
    {
      "cell_type": "markdown",
      "metadata": {
        "id": "bPnDFos51jJq"
      },
      "source": [
        "In the original conjecture, it states if you start with any positive integer n, then the resulting sequence will eventually reach the \"cycle\" 4,2,1. Every postive number that we've tested has reached 1 i.e the \"cycle\" mentioned earlier. However what if the starting integer n is a negative number? We might think that it will surely reach a similar \"cycle\" that would look like -4,-2,-1. However, below is a function which verifies the conjecture and when inputted a negative number in the function the output varied. The negative integers inputted either gave a sequence that reached a \"cycle\" -4,-2,-1 similar to 4,2,1, (the postive conjecture \"cycle\") or gave an infinite loop. For example, when inputted -16, we got -16,-8,-4,-2,-1 and for -5 we are given the infinite loop of -5,-14, -7,-20, -10,etc..\n",
        "\n"
      ]
    },
    {
      "cell_type": "code",
      "metadata": {
        "id": "WxK7HAgb01p8"
      },
      "source": [
        "def collatz_verbose(n):\n",
        "  '''\n",
        "  Prints the orbit of n\n",
        "  '''\n",
        "  while abs(n) != 1: \n",
        "    print(n)\n",
        "    if n % 2 == 0: \n",
        "      n //= 2\n",
        "    else: \n",
        "      n = (3 * n + 1)\n",
        "  return"
      ],
      "execution_count": null,
      "outputs": []
    },
    {
      "cell_type": "code",
      "metadata": {
        "id": "AbmWi-V0Syn_"
      },
      "source": [
        "collatz_verbose(-6)"
      ],
      "execution_count": null,
      "outputs": []
    },
    {
      "cell_type": "code",
      "metadata": {
        "id": "3HA1QBf0XH9N"
      },
      "source": [
        "collatz_verbose( -5) # this will go on forever"
      ],
      "execution_count": null,
      "outputs": []
    },
    {
      "cell_type": "markdown",
      "metadata": {
        "id": "HihfsIbV0MUb"
      },
      "source": [
        "**Below**: The following was created in order to not run into this infinite loop situation. If the value reached -1 then it broke ('break') the loop and did everything outside that loop (printing the value, the sequence that that integer produced). However, if the negative integer did not reach this \"cycle\" and produced an infinite loop then it would print the numbers in the loop as well as informing us that it is infinite. The 'enter a number, enter 0 to exist' helps to stop the infinte sequence. "
      ]
    },
    {
      "cell_type": "code",
      "metadata": {
        "id": "H7rXIRPOVS9C"
      },
      "source": [
        "n= m\n",
        "while n != 0: \n",
        "  n = int(input(\"Enter a number, enter 0 to exit:\"))\n",
        "  values = []\n",
        "     \n",
        "  if n ==0:\n",
        "    break \n",
        "    \n",
        "  while abs(n) != 1:\n",
        "    print(n)\n",
        "      \n",
        "    if n in values:\n",
        "      print('infinite')\n",
        "      break\n",
        "    values.append(n)\n",
        "\n",
        "    if n % 2 == 0:\n",
        "      n //= 2\n",
        "    else: \n",
        "        n = (3 * n + 1)\n",
        "    print (values)\n",
        "\n",
        "print (n)"
      ],
      "execution_count": null,
      "outputs": []
    },
    {
      "cell_type": "markdown",
      "metadata": {
        "id": "R9F8Ni8FdthW"
      },
      "source": [
        "**Below:** We were unable to determine which negative number would produce this infinite sequence versus those that would reach -1, that is why below we have a list that demonstrates the negative numbers between -1 to -100. Some have an infinte loop which hold this \"cycle\" similar to the postive integers of 4,2,1 and in this case it reaches -1."
      ]
    },
    {
      "cell_type": "code",
      "metadata": {
        "id": "ZTtQ42wyr_LG"
      },
      "source": [
        "inf=[]\n",
        "for m in range(-1,-100,-1):\n",
        "    n = m\n",
        "    printit= True\n",
        "    values =[]\n",
        "\n",
        "    if n==0:\n",
        "      break\n",
        "    \n",
        "    while abs(n) !=1:\n",
        "\n",
        "      if n in values:\n",
        "        printit = False \n",
        "        inf.append(n)\n",
        "        break\n",
        "      values.append(n)\n",
        "\n",
        "      if n % 2 ==0:\n",
        "        n //= 2\n",
        "      else:\n",
        "        n=(3 * n +1)\n",
        "    if printit:\n",
        "      print(m,values)\n",
        "print(inf)"
      ],
      "execution_count": null,
      "outputs": []
    },
    {
      "cell_type": "markdown",
      "metadata": {
        "id": "mguLvJqyyjZA"
      },
      "source": [
        "We notice that the prime negative numbers and their multiples seem to have this infinte loop compared to even negative numbers who have the \"cycle\" of -4,-2,-1 excluding 1 and 2."
      ]
    },
    {
      "cell_type": "markdown",
      "metadata": {
        "id": "BnhnHcXztnEs"
      },
      "source": [
        "Starting with a negative integer n doesn't get the same outcome if we were to start with a positive integer n, but it does tell us that some negative numbers reach -1 with a similar \"cycle\". Even with some similairties we are unable to fully give a proof to further this conjecture. "
      ]
    },
    {
      "cell_type": "markdown",
      "metadata": {
        "id": "rX2zYdp93LaQ"
      },
      "source": [
        "## 3n-1"
      ]
    },
    {
      "cell_type": "markdown",
      "metadata": {
        "id": "hkK06M5C3Q9f"
      },
      "source": [
        "What happens if the conjecture started with a negative integer n and instead of 3n+1 it was 3n-1 to replace odd integer? There will still be negative numbers as outputs without a doubt, but using the information from above we decided to input negative prime numbers and their multiple to see what the outcome will give us. "
      ]
    },
    {
      "cell_type": "code",
      "metadata": {
        "id": "kbuVb30E4meC"
      },
      "source": [
        "n= m\n",
        "while n != 0: \n",
        "  n = int(input(\"Enter a number, enter 0 to exit:\"))\n",
        "  values = []\n",
        "     \n",
        "  if n ==0:\n",
        "    break \n",
        "    \n",
        "  while abs(n) != 1:\n",
        "    print(n)\n",
        "      \n",
        "    if n in values:\n",
        "      print('infinite')\n",
        "      break\n",
        "    values.append(n)\n",
        "\n",
        "    if n % 2 == 0:\n",
        "      n //= 2\n",
        "    else: \n",
        "        n = (3 * n - 1) #if n is negative, then +1 should be minus -1 otherwise infinite loop\n",
        "    print (values)\n",
        "\n",
        "print (n)"
      ],
      "execution_count": null,
      "outputs": []
    },
    {
      "cell_type": "markdown",
      "metadata": {
        "id": "A9jvsZxCJfaE"
      },
      "source": [
        "Shown above is the prime number -5 with their multiple of -10 and -20. As we can see these multiples have a differnt output when the odd integer is replaced with 3n-1. Furthermore, there is no infinite loop when prime numbers are inputted on the contrary the \"cycle\" -4,-2,-1 ( reaching -1) is present."
      ]
    },
    {
      "cell_type": "markdown",
      "metadata": {
        "id": "_Kg_Swo2DUQL"
      },
      "source": [
        "# Exploring Patterns with Different Expressions\r\n"
      ]
    },
    {
      "cell_type": "markdown",
      "metadata": {
        "id": "wuH0JvuoMYRp"
      },
      "source": [
        "\r\n",
        "In our Introduction, we mentioned how the Collatz Conjecture states that every positive integer will eventually reach 1 after finitely steps. At this point, we see that the conjecture applies to the expressions $3n + 1$ and $3n - 1$, in which, after a finitely amount of steps, the sequence eventually reaches the \"cycle\" 4,2,1. But, does the conjecture only apply to the expressions $3n + 1$ and $3n - 1$, or can other expressions written in that form follow the Collatz Conjecture, where they could also reach that \"cycle\" in a similar fashion?\r\n"
      ]
    },
    {
      "cell_type": "markdown",
      "metadata": {
        "id": "AL8pr1LJCrf8"
      },
      "source": [
        "## 5n + 1 "
      ]
    },
    {
      "cell_type": "markdown",
      "metadata": {
        "id": "xczetLnvaugJ"
      },
      "source": [
        "\r\n",
        "\r\n",
        "We first noticed that both expressions are written in slope-intercept form, in which the expression is seen to be in the form of: $$ m \\cdot x + b$$ or in this case, we see that the expression is instead in the form of: $$ m \\cdot n + b, $$\r\n",
        "such that $m$ and $b$ are some integers. \r\n",
        "\r\n",
        "Suppose we looked at a different expression that still takes a similar form as $ 3n + 1 $. This should help us see if we could detect a pattern that will help us to understand and to generalize the conjecture. With that, instead of $ 3n + 1 $, we explored the expression $ 5n + 1 $ replacing the odd integers when it appears in the cycle. "
      ]
    },
    {
      "cell_type": "code",
      "metadata": {
        "id": "yXpNgQY7UOxD"
      },
      "source": [
        "inf=[]\r\n",
        "for m in range(1,100,1):\r\n",
        "    n = m\r\n",
        "    printit= True\r\n",
        "    values =[]\r\n",
        "\r\n",
        "    if n==0:\r\n",
        "      break\r\n",
        "    \r\n",
        "    while abs(n) !=1:\r\n",
        "\r\n",
        "      if n in values:\r\n",
        "        printit = False \r\n",
        "        inf.append(n)\r\n",
        "        break\r\n",
        "      values.append(n)\r\n",
        "\r\n",
        "      if n % 2 ==0:\r\n",
        "        n //= 2\r\n",
        "      else:\r\n",
        "        n=(5 * n +1)\r\n",
        "    if printit:\r\n",
        "      print(m,values)\r\n",
        "print(inf)"
      ],
      "execution_count": null,
      "outputs": []
    },
    {
      "cell_type": "code",
      "metadata": {
        "id": "qnmGZE7cR_8A"
      },
      "source": [
        "def collatz_5n_1():\r\n",
        "  n= m\r\n",
        "  while n != 0: \r\n",
        "    n = int(input(\"Enter a number, enter 0 to exit:\"))\r\n",
        "    values = []\r\n",
        "     \r\n",
        "    if n ==0:\r\n",
        "      break \r\n",
        "    \r\n",
        "    while abs(n) != 1:\r\n",
        "      print(n)\r\n",
        "      \r\n",
        "      if n in values:\r\n",
        "        print('infinite')\r\n",
        "        break\r\n",
        "      values.append(n)\r\n",
        "\r\n",
        "      if n % 2 == 0:\r\n",
        "        n //= 2\r\n",
        "      else: \r\n",
        "          n = (5 * n + 1) #if n is negative, then +1 should be minus -1 otherwise infinite loop\r\n",
        "      print (values)\r\n",
        "\r\n",
        "  print (n)"
      ],
      "execution_count": null,
      "outputs": []
    },
    {
      "cell_type": "code",
      "metadata": {
        "id": "IA5t32XZSBnA"
      },
      "source": [
        "collatz_5n_1()"
      ],
      "execution_count": null,
      "outputs": []
    },
    {
      "cell_type": "markdown",
      "metadata": {
        "id": "7PaDJ7Ayi4BU"
      },
      "source": [
        "Compared to expression $ 3n + 1 $, we noticed a couple of irregularities as well as some similarities. For one, if we start with a particular positive integer n and used $ 5n + 1 $ to replace the odd integers, then we could also achieve a sequence that converges to the \"cycle\" 4,2,1 As seen above, if we start with a positive integer such as 30, the sequence eventually reaches the \"cycle\" 4,2,1, but the difference is that the \"cycle\" includes more than 4,2,1; for $ 5n + 1 $, the \"cycle\" is now 6,3,16,8,4,2,1. \r\n",
        "\r\n",
        "With additional integers added into the \"cycle,\" we see that different equations to replace the odd integers can affect what numbers are included in the \"cycle,\" whether it is at the beginning or the end of the \"cycle.\" Thus, can we determine a way to see at what number does the \"cycle\" begin and end at?\r\n",
        "\r\n",
        "If we were to revisit the original equation $ 3n + 1 $, the \"cycle\" includes the integers 4,2,1, in which once the sequence reaches 1, then the sequence repeats back to 4. From there, the \"cycle\" is repeated. This occurs because 1 is an odd number, and when 1 is substituted as n into the expression $ 3n + 1 $: $$ 3(1) + 1 = 4. $$\r\n",
        "\r\n",
        "In a similar way, when we use the expression $ 5n + 1 $ as our odd integer replacement, the \"cycle\" includes the integers 6,3,16,8,4,2,1, where once the sequence reaches 1, then the sequence repeats back to 6, and thus, the \"cycle\" for the expression is repeated again. This occurs because 1 is an odd number, and when 1 is subtituted as n into the expression $ 5n + 1 $: $$ 5(1) + 1 = 6. $$\r\n",
        "\r\n",
        "By this point, we noticed a couple of patterns that could help determine the starting and ending integers of the \"cycle.\" With each expression written in the form $ m \\cdot n + b $, integer b appears to be the final integer within the \"cycle\". Therefore, once the sequence reaches integer b, since b is an odd integer, b is substituted as n into the expression and from there, the sequence reaches to $ m \\cdot b + b $, which starts the \"cycle.\" What we are hypothesizing is that the starting integer of the \"cycle\" is $ m \\cdot b + b $ while the ending integer of the \"cycle\" is just b. \r\n",
        "\r\n",
        "In order to test the validity of this hypothesis, we would need to explore another expression that would fit as a replacement to odd integers. \r\n"
      ]
    },
    {
      "cell_type": "markdown",
      "metadata": {
        "id": "2Iqhq1JSC1Rj"
      },
      "source": [
        "## 5n + 3 "
      ]
    },
    {
      "cell_type": "markdown",
      "metadata": {
        "id": "GaQ-esx3um4X"
      },
      "source": [
        "\r\n",
        "\r\n",
        "Our hypothesis is that to find the starting and ending number of the \"cycle\" that the sequence reaches, we would set the ending number to equal to b while we would need to perform the following computations to achieve the starting number of the \"cycle\": $$ m \\cdot b + b. $$  \r\n",
        "\r\n",
        "That would mean that with the expression $ 5n + 3  $, the \"cycle\" should start at 18 and end at 3, in which after 3, the sequence returns back to 18, and from there, the \"cycle\" repeats.\r\n",
        "\r\n",
        "If our hypothesis is valid, then if we were to use 18 as our integer n, then the cycle should start at 18, end at 3, and should repeat infinitely amount of times.  "
      ]
    },
    {
      "cell_type": "code",
      "metadata": {
        "id": "ROik4-r1lL58"
      },
      "source": [
        "inf=[]\r\n",
        "for m in range(1,100,1):\r\n",
        "    n = m\r\n",
        "    printit= True\r\n",
        "    values =[]\r\n",
        "\r\n",
        "    if n==0:\r\n",
        "      break\r\n",
        "    \r\n",
        "    while abs(n) !=1:\r\n",
        "\r\n",
        "      if n in values:\r\n",
        "        printit = False \r\n",
        "        inf.append(n)\r\n",
        "        break\r\n",
        "      values.append(n)\r\n",
        "\r\n",
        "      if n % 2 ==0:\r\n",
        "        n //= 2\r\n",
        "      else:\r\n",
        "        n=(5 * n + 3)\r\n",
        "    if printit:\r\n",
        "      print(m,values)\r\n",
        "print(inf)"
      ],
      "execution_count": null,
      "outputs": []
    },
    {
      "cell_type": "code",
      "metadata": {
        "id": "IdydlHIylOAC"
      },
      "source": [
        "def collatz_5n_3():\r\n",
        "  n= m\r\n",
        "  while n != 0: \r\n",
        "    n = int(input(\"Enter a number, enter 0 to exit:\"))\r\n",
        "    values = []\r\n",
        "     \r\n",
        "    if n ==0:\r\n",
        "      break \r\n",
        "    \r\n",
        "    while abs(n) != 1:\r\n",
        "      print(n)\r\n",
        "      \r\n",
        "      if n in values:\r\n",
        "        print('infinite')\r\n",
        "        break\r\n",
        "      values.append(n)\r\n",
        "\r\n",
        "      if n % 2 == 0:\r\n",
        "        n //= 2\r\n",
        "      else: \r\n",
        "          n = (5 * n + 3) #if n is negative, then +1 should be minus -1 otherwise infinite loop\r\n",
        "      print (values)\r\n",
        "\r\n",
        "  print (n)"
      ],
      "execution_count": null,
      "outputs": []
    },
    {
      "cell_type": "code",
      "metadata": {
        "id": "DvkDM7njbPhm"
      },
      "source": [
        "collatz_5n_3()"
      ],
      "execution_count": null,
      "outputs": []
    },
    {
      "cell_type": "markdown",
      "metadata": {
        "id": "w5G9PK3AvpPV"
      },
      "source": [
        "With the expression $ 5n + 3 $ as our replacement for the odd integers, we could confirm that our hypothesis is valid and could potentially work with other expressions as well. "
      ]
    },
    {
      "cell_type": "markdown",
      "metadata": {
        "id": "tZdAsXLU-_Th"
      },
      "source": [
        "# Identifying More Exceptions to Different Expressions"
      ]
    },
    {
      "cell_type": "markdown",
      "metadata": {
        "id": "JpIuW-WT0Kk4"
      },
      "source": [
        "From the previous section, we were able to find a way to compute for the starting and ending numbers of the \"cycle\" that the sequence converges to. So far based on two expressions, we hypothesized that the pattern we found appears to work, but does this pattern work with all expressions written in the same slope-intercept form such that we could determine the first and last numbers of the \"cycle\" that the sequence converges to? We find in this section, there exists an additional criteria that needs to be met in order for this pattern to work.   "
      ]
    },
    {
      "cell_type": "markdown",
      "metadata": {
        "id": "SYRdb238C7YP"
      },
      "source": [
        "## 2n + 1"
      ]
    },
    {
      "cell_type": "markdown",
      "metadata": {
        "id": "SY3Vw9AjxI-5"
      },
      "source": [
        "\r\n",
        "\r\n",
        "What happens if the conjecture used the expression $ 2n + 1 $ as our replacement to odd integers? By our hypothesis, the starting number should be 3 while the ending number should 1. \r\n",
        "\r\n",
        "If our hypothesis is valid, then if we were to use 3 as our integer n, then the cycle should start at 3, end at 1, and should repeat infinitely amount of times."
      ]
    },
    {
      "cell_type": "code",
      "metadata": {
        "id": "ps5s01dmx4D3"
      },
      "source": [
        "inf=[]\r\n",
        "for m in range(1,100,1):\r\n",
        "    n = m\r\n",
        "    printit= True\r\n",
        "    values =[]\r\n",
        "\r\n",
        "    if n==0:\r\n",
        "      break\r\n",
        "    \r\n",
        "    while abs(n) !=1:\r\n",
        "\r\n",
        "      if n in values:\r\n",
        "        printit = False \r\n",
        "        inf.append(n)\r\n",
        "        break\r\n",
        "      values.append(n)\r\n",
        "\r\n",
        "      if n % 2 ==0:\r\n",
        "        n //= 2\r\n",
        "      else:\r\n",
        "        n=(2 * n + 1)\r\n",
        "    if printit:\r\n",
        "      print(m,values)\r\n",
        "print(inf)"
      ],
      "execution_count": null,
      "outputs": []
    },
    {
      "cell_type": "code",
      "metadata": {
        "id": "yTK1tU_ix_r2"
      },
      "source": [
        "def collatz_2n_1():\r\n",
        "  n= m\r\n",
        "  while n != 0: \r\n",
        "    n = int(input(\"Enter a number, enter 0 to exit:\"))\r\n",
        "    values = []\r\n",
        "     \r\n",
        "    if n ==0:\r\n",
        "      break \r\n",
        "    \r\n",
        "    while abs(n) != 1:\r\n",
        "      print(n)\r\n",
        "      \r\n",
        "      if n in values:\r\n",
        "        print('infinite')\r\n",
        "        break\r\n",
        "      values.append(n)\r\n",
        "\r\n",
        "      if n % 2 == 0:\r\n",
        "        n //= 2\r\n",
        "      else: \r\n",
        "          n = (2 * n + 1) #if n is negative, then +1 should be minus -1 otherwise infinite loop\r\n",
        "      print (values)\r\n",
        "\r\n",
        "  print (n)"
      ],
      "execution_count": null,
      "outputs": []
    },
    {
      "cell_type": "code",
      "metadata": {
        "id": "_jEM8j51yCk5"
      },
      "source": [
        "collatz_2n_1()"
      ],
      "execution_count": null,
      "outputs": []
    },
    {
      "cell_type": "markdown",
      "metadata": {
        "id": "ImlFPhbTwiU4"
      },
      "source": [
        "Instead of achieving the starting and ending number of the \"cycle,\" we instead get a \"data rate exceeded\" error, which contradicts our hypothesis completely. Compared to the other expressions, $ m $ here happens to be an even number, while before both $ m $ and $ b $ were odd integers. Hence, does that mean that this pattern could only work if both $ m $ and $ b $ are odd numbers? \r\n",
        "\r\n"
      ]
    },
    {
      "cell_type": "markdown",
      "metadata": {
        "id": "W6UK91F7C_Hq"
      },
      "source": [
        "## 2n + 3 & 5n + 7"
      ]
    },
    {
      "cell_type": "markdown",
      "metadata": {
        "id": "ztcNBfTg0CRZ"
      },
      "source": [
        "\r\n",
        "\r\n",
        "These two expressions to replace the odd integer individually should help determine whether both $m$ and $b$ must be odd in order for the pattern to work. If our hypothesis is valid for all expressions, then for $ 2n + 3 $, the starting number of the \"cycle\" should be 9 while the ending number should be 3. Also, for $ 5n + 7 $, the starting number of the \"cycle\" should be 42 while the ending number should be 7."
      ]
    },
    {
      "cell_type": "code",
      "metadata": {
        "id": "AQTefX0Z_V88"
      },
      "source": [
        "inf=[]\r\n",
        "for m in range(1,100,1):\r\n",
        "    n = m\r\n",
        "    printit= True\r\n",
        "    values =[]\r\n",
        "\r\n",
        "    if n==0:\r\n",
        "      break\r\n",
        "    \r\n",
        "    while abs(n) !=3:\r\n",
        "\r\n",
        "      if n in values:\r\n",
        "        printit = False \r\n",
        "        inf.append(n)\r\n",
        "        break\r\n",
        "      values.append(n)\r\n",
        "\r\n",
        "      if n % 2 ==0:\r\n",
        "        n //= 2\r\n",
        "      else:\r\n",
        "        n=(2 * n + 3)\r\n",
        "    if printit:\r\n",
        "      print(m,values)\r\n",
        "print(inf)"
      ],
      "execution_count": null,
      "outputs": []
    },
    {
      "cell_type": "code",
      "metadata": {
        "id": "Gd70E7q9_ZDx"
      },
      "source": [
        "def collatz_2n_3():\r\n",
        "  n= m\r\n",
        "  while n != 0: \r\n",
        "    n = int(input(\"Enter a number, enter 0 to exit:\"))\r\n",
        "    values = []\r\n",
        "     \r\n",
        "    if n ==0:\r\n",
        "      break \r\n",
        "    \r\n",
        "    while abs(n) != 3:\r\n",
        "      print(n)\r\n",
        "      \r\n",
        "      if n in values:\r\n",
        "        print('infinite')\r\n",
        "        break\r\n",
        "      values.append(n)\r\n",
        "\r\n",
        "      if n % 2 == 0:\r\n",
        "        n //= 2\r\n",
        "      else: \r\n",
        "          n = (2 * n + 3) \r\n",
        "      print (values)\r\n",
        "\r\n",
        "  print (n)"
      ],
      "execution_count": null,
      "outputs": []
    },
    {
      "cell_type": "code",
      "metadata": {
        "id": "v0dFifyg_bPQ"
      },
      "source": [
        "collatz_2n_3()"
      ],
      "execution_count": null,
      "outputs": []
    },
    {
      "cell_type": "code",
      "metadata": {
        "id": "wyogVJdf_5vR"
      },
      "source": [
        "inf=[]\r\n",
        "for m in range(1,100,1):\r\n",
        "    n = m\r\n",
        "    printit= True\r\n",
        "    values =[]\r\n",
        "\r\n",
        "    if n==0:\r\n",
        "      break\r\n",
        "    \r\n",
        "    while abs(n) !=7:\r\n",
        "\r\n",
        "      if n in values:\r\n",
        "        printit = False \r\n",
        "        inf.append(n)\r\n",
        "        break\r\n",
        "      values.append(n)\r\n",
        "\r\n",
        "      if n % 2 ==0:\r\n",
        "        n //= 2\r\n",
        "      else:\r\n",
        "        n=(5 * n + 7)\r\n",
        "    if printit:\r\n",
        "      print(m,values)\r\n",
        "print(inf)"
      ],
      "execution_count": null,
      "outputs": []
    },
    {
      "cell_type": "code",
      "metadata": {
        "id": "r4JYacWu__wn"
      },
      "source": [
        "def collatz_5n_7():\r\n",
        "  n= m\r\n",
        "  while n != 0: \r\n",
        "    n = int(input(\"Enter a number, enter 0 to exit:\"))\r\n",
        "    values = []\r\n",
        "     \r\n",
        "    if n ==0:\r\n",
        "      break \r\n",
        "    \r\n",
        "    while abs(n) != 7:\r\n",
        "      print(n)\r\n",
        "      \r\n",
        "      if n in values:\r\n",
        "        print('infinite')\r\n",
        "        break\r\n",
        "      values.append(n)\r\n",
        "\r\n",
        "      if n % 2 == 0:\r\n",
        "        n //= 2\r\n",
        "      else: \r\n",
        "          n = (5 * n + 7) \r\n",
        "      print (values)\r\n",
        "\r\n",
        "  print (n)"
      ],
      "execution_count": null,
      "outputs": []
    },
    {
      "cell_type": "code",
      "metadata": {
        "id": "q3aNFY9kAN94"
      },
      "source": [
        "collatz_5n_7()"
      ],
      "execution_count": null,
      "outputs": []
    },
    {
      "cell_type": "markdown",
      "metadata": {
        "id": "dlxMWj7y1sNS"
      },
      "source": [
        "As we could see, the pattern works well with expression $ 5n + 7 $ while with expression $ 2n + 3 $, the sequence does not appear to be converging to any number, but instead seems to be approaching infinity. The reasoning here is that when a number is multipled by an even number and then is added by an odd number, the final result will always be odd. If the output is odd, then that odd integer will be replaced by the epxression, thus the sequence continues to increase until it reaches infinity. Overall, the only time we could use the pattern to find the starting and ending numbers in our \"cycle\" is if both $m$ and $b$ are odd integers. \r\n",
        "\r\n",
        "Due to the many exceptions that each expression holds, the additional rule to the pattern proves to be problematic and contributes to the fact that conjecture is difficult to fully comprehend.  As we could see with expressions $ 2n + 1 $ and $ 2n + 3 $, we cannot use the pattern to find the starting and ending integers of the cycle because the pattern only works when both $m$ and $b$ are odd integers. Since each expression holds their own behaviors that may differ from other expressions, the volatility of finding a universal pattern for all of the expressions is extremely difficult to do.   \r\n",
        "\r\n",
        "\r\n",
        "\r\n"
      ]
    },
    {
      "cell_type": "markdown",
      "metadata": {
        "id": "IfJC0l71BF7T"
      },
      "source": [
        "## Expressions with More Than 1 \"Cycle\" "
      ]
    },
    {
      "cell_type": "markdown",
      "metadata": {
        "id": "zC22OFKsBCjw"
      },
      "source": [
        "Another example of this volatile behavior is that with $ 5n + 1 $, the sequence could potentially converge to more than 1 cycle, which compared to the expression $ 3n + 1 $, that differs quite a bit. From the previous section, we know that with expression $ 5n + 1 $ as the odd integer replacement, the sequence could reach the \"cycle\" 6,3,16,8,4,2,1 if we chose integers as our n like: 6, 15, 30. What happens, however, if we chose integers as our n to be: 5,10,26?  "
      ]
    },
    {
      "cell_type": "code",
      "metadata": {
        "id": "OswPRSvdBdgR"
      },
      "source": [
        "inf=[]\r\n",
        "for m in range(1,100,1):\r\n",
        "    n = m\r\n",
        "    printit= True\r\n",
        "    values =[]\r\n",
        "\r\n",
        "    if n==0:\r\n",
        "      break\r\n",
        "    \r\n",
        "    while abs(n) !=1:\r\n",
        "\r\n",
        "      if n in values:\r\n",
        "        printit = False \r\n",
        "        inf.append(n)\r\n",
        "        break\r\n",
        "      values.append(n)\r\n",
        "\r\n",
        "      if n % 2 ==0:\r\n",
        "        n //= 2\r\n",
        "      else:\r\n",
        "        n=(5 * n + 1)\r\n",
        "    if printit:\r\n",
        "      print(m,values)\r\n",
        "print(inf)"
      ],
      "execution_count": null,
      "outputs": []
    },
    {
      "cell_type": "code",
      "metadata": {
        "id": "JNHy0BxIBgyb"
      },
      "source": [
        "def collatz_5n_1_more():\r\n",
        "  n= m\r\n",
        "  while n != 0: \r\n",
        "    n = int(input(\"Enter a number, enter 0 to exit:\"))\r\n",
        "    values = []\r\n",
        "     \r\n",
        "    if n ==0:\r\n",
        "      break \r\n",
        "    \r\n",
        "    while abs(n) != 1:\r\n",
        "      print(n)\r\n",
        "      \r\n",
        "      if n in values:\r\n",
        "        print('infinite')\r\n",
        "        break\r\n",
        "      values.append(n)\r\n",
        "\r\n",
        "      if n % 2 == 0:\r\n",
        "        n //= 2\r\n",
        "      else: \r\n",
        "          n = (5 * n + 1) \r\n",
        "      print (values)\r\n",
        "\r\n",
        "  print (n)"
      ],
      "execution_count": null,
      "outputs": []
    },
    {
      "cell_type": "code",
      "metadata": {
        "id": "RKDmofA7Bhhw"
      },
      "source": [
        "collatz_5n_1_more()"
      ],
      "execution_count": null,
      "outputs": []
    },
    {
      "cell_type": "markdown",
      "metadata": {
        "id": "fyv47FL17T3r"
      },
      "source": [
        "From our script, by using the expression $ 5n + 1 $ as the odd integer replacement, we find there exists another possible \"cycle\" that the sequence could also reach, which includes the integers: 26, 13, 66, 33, 166, 83, 416, 208, 104, 52. This differs from the expression $ 3n + 1 $ because with $ 3n + 1 $ as the odd integer replacement, we were able to find only one \"cycle\" that the sequence converges to while with $ 5n + 1 $, the sequence could converge to more than one \"cycle;\" we cannot say definitely that the expression $ 5n + 1 $ as the odd integer replacement will only have two converging \"cycles\" until we run all the possible tests for the expression. \r\n",
        "\r\n",
        "From our observations throughout this exploration, the overall point is that the conjecture is hard to completely understand and to prove because of how volatile the behaviors of the numbers and sequences can be. It appears as though the best way to fully prove the conjecture is through much numerical anaylsis, which is inefficient and inelegant compared to most proofs.  "
      ]
    },
    {
      "cell_type": "markdown",
      "metadata": {
        "id": "9f8-9-jrul0y"
      },
      "source": [
        "#**Visualizing the Dynamics**\n",
        "\n",
        "\n",
        "\n"
      ]
    },
    {
      "cell_type": "markdown",
      "metadata": {
        "id": "CfK4h5ASovk9"
      },
      "source": [
        "####Let's start with some packages and formatting"
      ]
    },
    {
      "cell_type": "code",
      "metadata": {
        "id": "LB0GS9OXcw2k"
      },
      "source": [
        "from math import *\n",
        "import numpy as np\n",
        "import matplotlib.pyplot as plt\n",
        "import seaborn as sns"
      ],
      "execution_count": null,
      "outputs": []
    },
    {
      "cell_type": "code",
      "metadata": {
        "id": "0IbJpvAPSo8c"
      },
      "source": [
        "sns.set_theme()"
      ],
      "execution_count": null,
      "outputs": []
    },
    {
      "cell_type": "markdown",
      "metadata": {
        "id": "LaoJPO0pN5HC"
      },
      "source": [
        "\n",
        "####And now we create some functions that we'll in our visual exploration of the data.\n",
        "\n"
      ]
    },
    {
      "cell_type": "markdown",
      "metadata": {
        "id": "quOC2811vMHw"
      },
      "source": [
        "#####We start with a brute-force function $collatz\\_steps(n,printit)$ that returns the number of iterations it takes for a number $n$ to reach $1$ under the Collatz map. "
      ]
    },
    {
      "cell_type": "code",
      "metadata": {
        "id": "efNd_IkGZzRg"
      },
      "source": [
        "def collatz_steps(n,printit=0): \n",
        "\n",
        "  '''\n",
        "  \n",
        "  Returns the number of steps it takes for the Collatz\n",
        "  map to applied to a natural number n reach the limit cycle.\n",
        "  Prints this number if printit == true.\n",
        "\n",
        "  args: integer n, boolean printit\n",
        "\n",
        "  return: number of steps it takes to reach the limit cycle\n",
        "\n",
        "  '''   \n",
        "  steps = 0                     \n",
        "  while n != 1:                  \n",
        "    steps += 1\n",
        "    if n%2 == 0:\n",
        "      n = n//2\n",
        "    else:  \n",
        "      n = 3*n +1\n",
        "  if printit:\n",
        "    print(\"It took {} steps to reach our limit cycle\".format(steps))\n",
        "  return steps  "
      ],
      "execution_count": null,
      "outputs": []
    },
    {
      "cell_type": "markdown",
      "metadata": {
        "id": "zCYZzGxIqlQf"
      },
      "source": [
        "####Let's try it on a few numbers."
      ]
    },
    {
      "cell_type": "code",
      "metadata": {
        "id": "i0SLDfvNqqqz"
      },
      "source": [
        "collatz_steps(10,1)"
      ],
      "execution_count": null,
      "outputs": []
    },
    {
      "cell_type": "code",
      "metadata": {
        "id": "sswdL1GeqksJ"
      },
      "source": [
        "collatz_steps(20001)"
      ],
      "execution_count": null,
      "outputs": []
    },
    {
      "cell_type": "code",
      "metadata": {
        "id": "Ym_nW_VYwAt9"
      },
      "source": [
        "%timeit collatz_steps(709823976808575)"
      ],
      "execution_count": null,
      "outputs": []
    },
    {
      "cell_type": "markdown",
      "metadata": {
        "id": "5dW4bmbowK65"
      },
      "source": [
        "####It seems to work well enough for our purposes. "
      ]
    },
    {
      "cell_type": "markdown",
      "metadata": {
        "id": "jaRmZcJgsW7F"
      },
      "source": [
        "#####Now let's loop through the numbers in the interval $[1,n]$ and call $collatz\\_steps(i)$ at each step $i$. We create a function $collatz\\_steps\\_list(n)$ that retuns this list for an input $n$."
      ]
    },
    {
      "cell_type": "code",
      "metadata": {
        "id": "fJQS-Eu_mIma"
      },
      "source": [
        "def collatz_steps_list(n):\n",
        "  '''\n",
        "  This function outputs a list of the \"return times\" for each number in [0,n].\n",
        "  '''\n",
        "  stepslist = list()\n",
        "  for i in range(n):\n",
        "    stepslist.append(collatz_steps(i+1,0))\n",
        "  return stepslist  "
      ],
      "execution_count": null,
      "outputs": []
    },
    {
      "cell_type": "code",
      "metadata": {
        "id": "R-7XhMyiszXe"
      },
      "source": [
        "collatz_steps_list(20)"
      ],
      "execution_count": null,
      "outputs": []
    },
    {
      "cell_type": "markdown",
      "metadata": {
        "id": "OC26SbKUxAC-"
      },
      "source": [
        "We also need a function $collatz\\_orbit(n)$ that returns a list containing a record of the stops $n$ took on its way to the limit cycle. "
      ]
    },
    {
      "cell_type": "code",
      "metadata": {
        "id": "UhMu_t0XUmP7"
      },
      "source": [
        "def collatz_orbit(n):\n",
        "  '''\n",
        "  This function outputs a list containing each value of the orbit starting at an integer n\n",
        "  '''\n",
        "  steps = 0\n",
        "  nlist = list()\n",
        "  while n != 1:\n",
        "    nlist.append(n)\n",
        "    steps += 1\n",
        "    if n%2 == 0:\n",
        "      n = n//2\n",
        "    else:  \n",
        "      n = 3*n +1\n",
        "  return nlist   "
      ],
      "execution_count": null,
      "outputs": []
    },
    {
      "cell_type": "code",
      "metadata": {
        "id": "K3toECb8Vwmc"
      },
      "source": [
        "collatz_orbit(7)"
      ],
      "execution_count": null,
      "outputs": []
    },
    {
      "cell_type": "code",
      "metadata": {
        "id": "z9tIiFdVyE7z"
      },
      "source": [
        "print(collatz_orbit(73))\n",
        "          "
      ],
      "execution_count": null,
      "outputs": []
    },
    {
      "cell_type": "markdown",
      "metadata": {
        "id": "pmzoUNbuys8r"
      },
      "source": [
        "In a similar fashion, we loop through the numbers $[1,n]$ and $collatz\\_orbit(i)$ at each step. Our function $collatz\\_orbit\\_list(n)$ will output a list who's elements are lists."
      ]
    },
    {
      "cell_type": "code",
      "metadata": {
        "id": "A7vn8JO8TkuM"
      },
      "source": [
        "def collatz_orbit_list(n):\n",
        "  '''\n",
        "   This function outputs a list of lists, each representing the orbit taken by the seed of the index\n",
        "  '''\n",
        "  orbit_list = list()\n",
        "  for i in range(1,n+1):\n",
        "    #print(collatz_orbit(i))\n",
        "    orbit_list.append(collatz_orbit(i))\n",
        "    \n",
        "  return orbit_list  "
      ],
      "execution_count": null,
      "outputs": []
    },
    {
      "cell_type": "code",
      "metadata": {
        "id": "QAyX-AcDanES"
      },
      "source": [
        "print(collatz_orbit_list(7))"
      ],
      "execution_count": null,
      "outputs": []
    },
    {
      "cell_type": "code",
      "metadata": {
        "id": "x6aNGcouz0aO"
      },
      "source": [
        "%timeit collatz_orbit_list(10000)"
      ],
      "execution_count": null,
      "outputs": []
    },
    {
      "cell_type": "markdown",
      "metadata": {
        "id": "R_1LSS-9z-i-"
      },
      "source": [
        "####Not the fastest, but good enough for us. "
      ]
    },
    {
      "cell_type": "markdown",
      "metadata": {
        "id": "f-g_zvZw0MeL"
      },
      "source": [
        "#####Now we're ready to start plotting. We'll start with a function $collatz\\_orbit\\_plot(n)$ that plots $collatz\\_orbit\\_list(n)$. Let's include some options, like the type and size of the plot. \n",
        "\n",
        "\n"
      ]
    },
    {
      "cell_type": "code",
      "metadata": {
        "id": "0yMa0zHYE1-i"
      },
      "source": [
        "def collatz_orbit_plot(n,plottype='line',size='medium'):\n",
        "  '''\n",
        "  \n",
        "  This function creates a plot of the bahavior of the Collatz map \n",
        "  applied to an integer n. \n",
        "\n",
        "  args: integer n \n",
        "  string plottype from {'line','bar','scatter'}. Default is 'line'.\n",
        "  string size from {'small','medium','large}. Default is 'medium'.\n",
        "\n",
        "\n",
        "  return: plot\n",
        "\n",
        "  '''\n",
        "  \n",
        "  if size == 'large':\n",
        "    fig = plt.figure(figsize=(20, 20))\n",
        "  elif size == 'medium':\n",
        "    fig = plt.figure(figsize=(12, 17))\n",
        "  elif size == 'small':    \n",
        "    fig = plt.figure(figsize=(10, 15))\n",
        "\n",
        "  ax = plt.subplot(2, 1, 1)\n",
        "  nlist = collatz_orbit(n)\n",
        "  allsteps = range(n)   \n",
        "\n",
        "\n",
        "  if plottype == 'scatter':\n",
        "    plt.scatter(range(len(nlist)),nlist)   \n",
        "  elif plottype == 'bar':  \n",
        "    plt.bar(range(len(nlist)),nlist)\n",
        "  elif plottype == 'line':   \n",
        "    plt.plot(range(len(nlist)),nlist)  \n",
        "\n",
        "\n",
        "\n",
        "  ax.set_xlabel('steps')\n",
        "  ax.set_ylabel('values')\n",
        "  ax.set_title('Orbit of the Collatz Map applied to a Natural Number n')\n",
        "  plt.show()  "
      ],
      "execution_count": null,
      "outputs": []
    },
    {
      "cell_type": "code",
      "metadata": {
        "id": "gm4IMczT2x2c"
      },
      "source": [
        "collatz_orbit_plot(7,size = 'small')"
      ],
      "execution_count": null,
      "outputs": []
    },
    {
      "cell_type": "code",
      "metadata": {
        "id": "d3LsuyRS6qBK"
      },
      "source": [
        "collatz_orbit_plot(1777,'bar')"
      ],
      "execution_count": null,
      "outputs": []
    },
    {
      "cell_type": "code",
      "metadata": {
        "id": "55B4xg-M1Cd6"
      },
      "source": [
        "collatz_orbit_plot(40029,'scatter','large')"
      ],
      "execution_count": null,
      "outputs": []
    },
    {
      "cell_type": "markdown",
      "metadata": {
        "id": "G75x7EaPKTY2"
      },
      "source": [
        "We can see some slight patterns beginning to emerge from the data."
      ]
    },
    {
      "cell_type": "markdown",
      "metadata": {
        "id": "-PpD50QnN4Tz"
      },
      "source": [
        "Let's now use our $collatz\\_orbit\\_list(n)$ function from earlier to make the above plots, but for all the numbers up to $n$ simultaneously. We copy the formatting from $collatz\\_orbit\\_plot$, aside from the bar option."
      ]
    },
    {
      "cell_type": "code",
      "metadata": {
        "id": "npRXiXldfOvh"
      },
      "source": [
        "def collatz_orbits_plot(n,plottype='line',size='medium'):\n",
        "\n",
        "  '''\n",
        "\n",
        "  This function creates a plot of the bahavior of the Collatz map \n",
        "  applied to the interval [1,n].\n",
        "\n",
        "  args: integer n \n",
        "  string plottype from {'line','scatter'}. Default is 'line'.\n",
        "  string size from {'small','medium','large}. Default is 'medium'.\n",
        "\n",
        "  '''\n",
        "\n",
        "  orbit_list = collatz_orbit_list(n)\n",
        "\n",
        "  if size == 'large':\n",
        "    fig = plt.figure(figsize=(20, 20))\n",
        "  elif size == 'medium':\n",
        "    fig = plt.figure(figsize=(12, 17))\n",
        "  elif size == 'small':    \n",
        "    fig = plt.figure(figsize=(10, 15))\n",
        "\n",
        "  ax = plt.subplot(2, 1, 1)\n",
        "  nlist = collatz_orbit(n)\n",
        "  allsteps = range(n)   \n",
        "\n",
        "\n",
        "  if plottype == 'scatter':\n",
        "    for i in orbit_list:\n",
        "      plt.scatter(range(len(i)),i)   \n",
        "  elif plottype == 'line':   \n",
        "    for i in orbit_list:\n",
        "      plt.plot(range(len(i)),i) \n",
        "\n",
        "  ax.set_xlabel('steps')\n",
        "  ax.set_ylabel('values')\n",
        "  ax.set_title('Orbits of the Collatz Map applied to the interval [1,n]')\n",
        "  plt.show()  \n",
        "  "
      ],
      "execution_count": null,
      "outputs": []
    },
    {
      "cell_type": "code",
      "metadata": {
        "id": "dchsYxI0Vkdf"
      },
      "source": [
        "collatz_orbits_plot(20)"
      ],
      "execution_count": null,
      "outputs": []
    },
    {
      "cell_type": "code",
      "metadata": {
        "id": "ISN_fI4pgeNI"
      },
      "source": [
        "collatz_orbits_plot(50,'scatter')              "
      ],
      "execution_count": null,
      "outputs": []
    },
    {
      "cell_type": "code",
      "metadata": {
        "id": "RAMNJ2i9U7mf"
      },
      "source": [
        "collatz_orbits_plot(100)"
      ],
      "execution_count": null,
      "outputs": []
    },
    {
      "cell_type": "code",
      "metadata": {
        "id": "wMdDWbrEi_39"
      },
      "source": [
        "collatz_orbits_plot(1000,size='large')"
      ],
      "execution_count": null,
      "outputs": []
    },
    {
      "cell_type": "markdown",
      "metadata": {
        "id": "ly5b-ahzpffL"
      },
      "source": [
        "#####Interestingly, we can see in the last two plots the dominant green and pink lines seems to share a trajectory, but shifted over a few steps. This implies that the seeds corresponding to these lines likely reach the same number, and then share an orit as they converge to the limit cycle. These \"coupled\" values are $(27,63)$ and $(703,937)$."
      ]
    },
    {
      "cell_type": "markdown",
      "metadata": {
        "id": "s53PdL_BtZ3S"
      },
      "source": [
        "####Clearly the Collatz conjecture and related maps have interesting behavior, both analytically and visually. We end our exploration of this topic for now, thank you for joining us."
      ]
    }
  ]
}